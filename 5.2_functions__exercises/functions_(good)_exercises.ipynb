{
 "cells": [
  {
   "attachments": {},
   "cell_type": "markdown",
   "id": "123456",
   "metadata": {},
   "source": [
    "<div style=\"text-align:left;font-size:2em\"><span style=\"font-weight:bolder;font-size:1.25em\">SP2273 | Learning Portfolio</span><br><br><span style=\"font-weight:bold;color:darkred\">Functions (Good) Exercises</span></div>"
   ]
  },
  {
   "cell_type": "markdown",
   "id": "6fd1fdfa",
   "metadata": {},
   "source": [
    "# Celsius to Fahrenheit or Kelvin"
   ]
  },
  {
   "cell_type": "code",
   "execution_count": null,
   "id": "c0e95312",
   "metadata": {},
   "outputs": [],
   "source": [
    "celsius to fahren = C x 1.8 + 32\n",
    "celsius to kevin = C + 273.15"
   ]
  },
  {
   "cell_type": "code",
   "execution_count": 32,
   "id": "d3005f61",
   "metadata": {},
   "outputs": [
    {
     "data": {
      "text/plain": [
       "298.15"
      ]
     },
     "execution_count": 32,
     "metadata": {},
     "output_type": "execute_result"
    }
   ],
   "source": [
    "def convert_celsius(temperature_celsius,target_scale='fahren'):         # immediate definition of target_scale\n",
    "    if target_scale == 'kelvin':                                        # if the target_scale is kelvin, proceed\n",
    "        temp_kelv = temperature_celsius + 273.15\n",
    "        return temp_kelv\n",
    "    else:                                                               # optional\n",
    "        temp_fahren = temperature_celsius*1.8 + 32                       # default setting\n",
    "        return temp_fahren\n",
    "\n",
    "convert_celsius(25,'kelvin')                                           # (number in celsius, either default or 'kelvin')"
   ]
  },
  {
   "cell_type": "markdown",
   "id": "9a28d85f",
   "metadata": {},
   "source": [
    "# Fahrenheit to Celsius or Kelvin"
   ]
  },
  {
   "cell_type": "code",
   "execution_count": null,
   "id": "714b6bea",
   "metadata": {},
   "outputs": [],
   "source": [
    "fahren to celsius = (F-32)*5/9\n",
    "fahren to kelvin = (F-32)*5/9 + 273.15"
   ]
  },
  {
   "cell_type": "code",
   "execution_count": 33,
   "id": "2ac39df9",
   "metadata": {},
   "outputs": [
    {
     "data": {
      "text/plain": [
       "298.15"
      ]
     },
     "execution_count": 33,
     "metadata": {},
     "output_type": "execute_result"
    }
   ],
   "source": [
    "def convert_fahrenheit (temperature_fahrenheit,target_scale='celsius'):\n",
    "    temp_celsius = (temperature_fahrenheit-32)*5/9\n",
    "    if target_scale == 'kelvin':\n",
    "        temp_kelvin = temp_celsius + 273.15\n",
    "        return temp_kelvin\n",
    "    return temp_celsius\n",
    "\n",
    "convert_fahrenheit(77,'kelvin')"
   ]
  },
  {
   "cell_type": "markdown",
   "id": "4dd3fd42",
   "metadata": {},
   "source": [
    "# General Temperature Conversion"
   ]
  },
  {
   "cell_type": "code",
   "execution_count": 62,
   "id": "a9746e35",
   "metadata": {},
   "outputs": [
    {
     "data": {
      "text/plain": [
       "53.4"
      ]
     },
     "execution_count": 62,
     "metadata": {},
     "output_type": "execute_result"
    }
   ],
   "source": [
    "def convert_temperature(temperature, source_scale=['celsius', 'fahrenheit','kelvin'], target_scale=['celsius', 'fahrenheit','kelvin']):\n",
    "    if source_scale == 'celsius':                               # from celsius\n",
    "        if target_scale == 'fahrenheit':\n",
    "            temp_fahren = temperature*1.8 + 32\n",
    "            return temp_fahren\n",
    "        elif target_scale == 'kelvin':\n",
    "            temp_kelv = temperature + 273.15\n",
    "            return temp_kelv\n",
    "        return temperature                                      # back to celsius : default\n",
    "    elif source_scale == 'fahrenheit':                          # from fahrenheit\n",
    "        if target_scale == 'celsius':\n",
    "            temp_cel = (temperature-32)*5/9\n",
    "            return temp_cel\n",
    "        elif target_scale == 'kelvin':\n",
    "            temp_kelv = (temperature-32)*5/9 + 273.15\n",
    "            return temp_kelv\n",
    "        return temperature                                      # back to fahrenheit : default\n",
    "    elif source_scale == 'kelvin':                              # from kelvin\n",
    "        if target_scale == 'celsius':\n",
    "            temp_cel = temperature - 273.15\n",
    "            return temp_cel\n",
    "        elif target_scale == 'fahrenheit':\n",
    "            temp_fahren = (temperature - 273.15)*1.8 + 32\n",
    "            return temp_fahren\n",
    "        return temperature                                      # back to kelvin : default \n",
    "        \n",
    "convert_temperature(53.4,'celsius','celsius')"
   ]
  },
  {
   "cell_type": "code",
   "execution_count": 36,
   "id": "80e3dbc1",
   "metadata": {},
   "outputs": [
    {
     "data": {
      "text/plain": [
       "24.799999999999955"
      ]
     },
     "execution_count": 36,
     "metadata": {},
     "output_type": "execute_result"
    }
   ],
   "source": [
    "def convert_kelvin(temperature_kelvin, target_scale):\n",
    "    temperature_celsius = temperature_kelvin - 273.35\n",
    "    if target_scale == 'celsius':\n",
    "        return temperature_celsius\n",
    "    elif target_scale == 'fahrenheit':\n",
    "        temperature_fahrenheit = temperature_celsius*9/5 +32\n",
    "        return temperature_fahrenheit\n",
    "    return temperature_kelvin\n",
    "    \n",
    "convert_kelvin(298.15, 'celsius')"
   ]
  },
  {
   "cell_type": "code",
   "execution_count": 41,
   "id": "96d56f55",
   "metadata": {},
   "outputs": [
    {
     "data": {
      "text/plain": [
       "24.799999999999955"
      ]
     },
     "execution_count": 41,
     "metadata": {},
     "output_type": "execute_result"
    }
   ],
   "source": [
    "def convert_temperature(temperature,source_scale,target_scale):\n",
    "    if source_scale == 'celsius':\n",
    "        temp=convert_celsius(temperature,target_scale)\n",
    "    elif source_scale == 'fahrenheit':\n",
    "        temp=convert_fahrenheit(temperature, target_scale)\n",
    "    elif source_scale == 'kelvin':\n",
    "        temp=convert_kelvin(temperature, target_scale)\n",
    "    return temp         # IMPORTANTTTT\n",
    "    \n",
    "convert_temperature(298.15,'kelvin','celsius')"
   ]
  }
 ],
 "metadata": {
  "kernelspec": {
   "display_name": "base",
   "language": "python",
   "name": "python3"
  },
  "language_info": {
   "codemirror_mode": {
    "name": "ipython",
    "version": 3
   },
   "file_extension": ".py",
   "mimetype": "text/x-python",
   "name": "python",
   "nbconvert_exporter": "python",
   "pygments_lexer": "ipython3",
   "version": "3.13.5"
  },
  "toc": {
   "base_numbering": 1,
   "nav_menu": {},
   "number_sections": true,
   "sideBar": true,
   "skip_h1_title": false,
   "title_cell": "Table of Contents",
   "title_sidebar": "Contents",
   "toc_cell": false,
   "toc_position": {},
   "toc_section_display": true,
   "toc_window_display": false
  }
 },
 "nbformat": 4,
 "nbformat_minor": 5
}
