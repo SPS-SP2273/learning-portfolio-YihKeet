{
 "cells": [
  {
   "attachments": {},
   "cell_type": "markdown",
   "id": "123456",
   "metadata": {},
   "source": [
    "<div style=\"text-align:left;font-size:2em\"><span style=\"font-weight:bolder;font-size:1.25em\">SP2273 | Learning Portfolio</span><br><br><span style=\"font-weight:bold;color:darkred\">Functions (Need) Exercises</span></div>"
   ]
  },
  {
   "cell_type": "markdown",
   "id": "aa0af7ad",
   "metadata": {},
   "source": [
    "# Do you know why?"
   ]
  },
  {
   "cell_type": "code",
   "execution_count": 19,
   "id": "6be79f60",
   "metadata": {},
   "outputs": [
    {
     "data": {
      "text/plain": [
       "'Hello welp!'"
      ]
     },
     "execution_count": 19,
     "metadata": {},
     "output_type": "execute_result"
    }
   ],
   "source": [
    "def greeting(name = 'welp'):\n",
    "    if name == 'Batman':\n",
    "        return 'Hello Batman! So, nice to meet you!'\n",
    "    return f'Hello {name}!'\n",
    "\n",
    "greeting()"
   ]
  },
  {
   "cell_type": "markdown",
   "id": "485b63f4",
   "metadata": {},
   "source": [
    "it is the default that the next line without the indent is understood to be an 'else' statement. "
   ]
  },
  {
   "cell_type": "markdown",
   "id": "afe8552f",
   "metadata": {},
   "source": [
    "# Chubby or not"
   ]
  },
  {
   "cell_type": "code",
   "execution_count": 67,
   "id": "49c0585c",
   "metadata": {},
   "outputs": [
    {
     "data": {
      "text/plain": [
       "'10.4, Underweight'"
      ]
     },
     "execution_count": 67,
     "metadata": {},
     "output_type": "execute_result"
    }
   ],
   "source": [
    "def BMI(weight,height):\n",
    "    BMIcalc = float(weight/(height**2))\n",
    "    if BMIcalc <18.5:\n",
    "        return f'{BMIcalc}, Underweight'\n",
    "    if 18.5<BMIcalc<24.9:\n",
    "        return f'{BMIcalc:.2f}, Normal weight'\n",
    "    if 25<BMIcalc<29.9:\n",
    "        return f'{BMIcalc:.2f}, OVerweight'\n",
    "    if BMIcalc>30:\n",
    "        return f'{BMIcalc:.2f}, Obese'\n",
    "\n",
    "BMI(65,2.5) "
   ]
  },
  {
   "cell_type": "markdown",
   "id": "c8319627",
   "metadata": {},
   "source": [
    "# Factorials"
   ]
  },
  {
   "cell_type": "code",
   "execution_count": 90,
   "id": "23acaa6b",
   "metadata": {},
   "outputs": [
    {
     "data": {
      "text/plain": [
       "'integer has been rounded down to 5 and its factorial is 120.'"
      ]
     },
     "execution_count": 90,
     "metadata": {},
     "output_type": "execute_result"
    }
   ],
   "source": [
    "import math\n",
    "\n",
    "def factorial(n):\n",
    "    numbers = int(n)\n",
    "    if n<=0:\n",
    "        return f'number should be a positive integer'\n",
    "    if n>=1:\n",
    "        factorials = math.factorial(numbers)\n",
    "        return f'integer has been rounded down to {numbers} and its factorial is {factorials}.'\n",
    "    \n",
    "factorial(5.5)"
   ]
  }
 ],
 "metadata": {
  "kernelspec": {
   "display_name": "base",
   "language": "python",
   "name": "python3"
  },
  "language_info": {
   "codemirror_mode": {
    "name": "ipython",
    "version": 3
   },
   "file_extension": ".py",
   "mimetype": "text/x-python",
   "name": "python",
   "nbconvert_exporter": "python",
   "pygments_lexer": "ipython3",
   "version": "3.13.5"
  },
  "toc": {
   "base_numbering": 1,
   "nav_menu": {},
   "number_sections": true,
   "sideBar": true,
   "skip_h1_title": false,
   "title_cell": "Table of Contents",
   "title_sidebar": "Contents",
   "toc_cell": false,
   "toc_position": {},
   "toc_section_display": true,
   "toc_window_display": false
  }
 },
 "nbformat": 4,
 "nbformat_minor": 5
}
