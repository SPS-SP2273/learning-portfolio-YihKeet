{
 "cells": [
  {
   "attachments": {},
   "cell_type": "markdown",
   "id": "123456",
   "metadata": {},
   "source": [
    "<div style=\"text-align:left;font-size:2em\"><span style=\"font-weight:bolder;font-size:1.25em\">SP2273 | Learning Portfolio</span><br><br><span style=\"font-weight:bold;color:darkred\">Loops (Need) Exercises</span></div>"
   ]
  },
  {
   "cell_type": "markdown",
   "id": "886645df",
   "metadata": {},
   "source": [
    "# Celsius to Fahrenheit"
   ]
  },
  {
   "cell_type": "code",
   "execution_count": 137,
   "id": "cfe02c70",
   "metadata": {},
   "outputs": [
    {
     "name": "stdout",
     "output_type": "stream",
     "text": [
      "0 Celsius is 32.0 Fahrenheit.\n",
      "5 Celsius is 41.0 Fahrenheit.\n",
      "10 Celsius is 50.0 Fahrenheit.\n",
      "15 Celsius is 59.0 Fahrenheit.\n",
      "20 Celsius is 68.0 Fahrenheit.\n",
      "25 Celsius is 77.0 Fahrenheit.\n",
      "30 Celsius is 86.0 Fahrenheit.\n",
      "35 Celsius is 95.0 Fahrenheit.\n",
      "40 Celsius is 104.0 Fahrenheit.\n",
      "45 Celsius is 113.0 Fahrenheit.\n",
      "50 Celsius is 122.0 Fahrenheit.\n"
     ]
    }
   ],
   "source": [
    "import numpy as np\n",
    "temperatures_celsius = [0, 5, 10, 15, 20, 25, 30, 35, 40, 45, 50]\n",
    "\n",
    "np_array_cel = np.array(temperatures_celsius)\n",
    "np_array_fah = np_array_cel*1.8 + 32\n",
    "\n",
    "for i in range(len(np_array_cel)):\n",
    "    np_array_cel1 = np_array_cel[i]\n",
    "    np_array_fah1 = np_array_fah[i]\n",
    "    print(f'{np_array_cel1} Celsius is {np_array_fah1} Fahrenheit.')"
   ]
  },
  {
   "cell_type": "code",
   "execution_count": 21,
   "id": "f11ddfde",
   "metadata": {},
   "outputs": [
    {
     "name": "stdout",
     "output_type": "stream",
     "text": [
      "Celsius is 0 : Fahrenheit is 32.0\n",
      "Celsius is 5 : Fahrenheit is 41.0\n",
      "Celsius is 10 : Fahrenheit is 50.0\n",
      "Celsius is 15 : Fahrenheit is 59.0\n",
      "Celsius is 20 : Fahrenheit is 68.0\n",
      "Celsius is 25 : Fahrenheit is 77.0\n",
      "Celsius is 30 : Fahrenheit is 86.0\n",
      "Celsius is 35 : Fahrenheit is 95.0\n",
      "Celsius is 40 : Fahrenheit is 104.0\n",
      "Celsius is 45 : Fahrenheit is 113.0\n",
      "Celsius is 50 : Fahrenheit is 122.0\n"
     ]
    }
   ],
   "source": [
    "temperatures_celsius = [0, 5, 10, 15, 20, 25, 30, 35, 40, 45, 50]\n",
    "\n",
    "for i in temperatures_celsius:\n",
    "    print(f'Celsius is {i} : Fahrenheit is {i * 1.8 + 32}')"
   ]
  },
  {
   "cell_type": "markdown",
   "id": "b6ca0349",
   "metadata": {},
   "source": [
    "# Multiplication Table"
   ]
  },
  {
   "cell_type": "code",
   "execution_count": 37,
   "id": "1d8f25d8",
   "metadata": {},
   "outputs": [
    {
     "name": "stdout",
     "output_type": "stream",
     "text": [
      "1 : 1   2   3   4   5\n",
      "2 : 2   4   6   8   10\n",
      "3 : 3   6   9   12  15\n",
      "4 : 4   8   12  16  20\n",
      "5 : 5   10  15  20  25\n"
     ]
    }
   ],
   "source": [
    "for y in range(1,6):\n",
    "    print(f'{y} :', end = ' ')\n",
    "    for x in range(1,6):\n",
    "        if x == 5:\n",
    "            print(y*x, end='\\n')\n",
    "        else:\n",
    "            print (f'{y*x:<2}', end = '  ')\n",
    "        "
   ]
  },
  {
   "cell_type": "code",
   "execution_count": 4,
   "id": "b1eb30a0",
   "metadata": {},
   "outputs": [
    {
     "name": "stdout",
     "output_type": "stream",
     "text": [
      "1 : 1   2   3   4   5   \n",
      "2 : 2   4   6   8   10  \n",
      "3 : 3   6   9   12  15  \n",
      "4 : 4   8   12  16  20  \n",
      "5 : 5   10  15  20  25  \n"
     ]
    }
   ],
   "source": [
    "for number in [1,2,3,4,5]:\n",
    "    print(f'{number} :', end=' ')\n",
    "    for numbers in [1,2,3,4,5]:\n",
    "        product = number*numbers\n",
    "        print(f'{product:^2}', end='  ')\n",
    "    print()                        "
   ]
  },
  {
   "cell_type": "markdown",
   "id": "6a126f21",
   "metadata": {},
   "source": [
    "# Simulating a Coin Flip Experiment"
   ]
  },
  {
   "cell_type": "code",
   "execution_count": 136,
   "id": "2c411b40",
   "metadata": {},
   "outputs": [
    {
     "name": "stdout",
     "output_type": "stream",
     "text": [
      "Experiment  1: No. of Heads = 7\n",
      "Experiment  2: No. of Heads = 5\n",
      "Experiment  3: No. of Heads = 6\n",
      "Experiment  4: No. of Heads = 5\n",
      "Experiment  5: No. of Heads = 5\n",
      "Experiment  6: No. of Heads = 3\n",
      "Experiment  7: No. of Heads = 5\n",
      "Experiment  8: No. of Heads = 6\n",
      "Experiment  9: No. of Heads = 5\n",
      "Experiment 10: No. of Heads = 7\n"
     ]
    }
   ],
   "source": [
    "import numpy as np\n",
    "\n",
    "for i in range(1,11):\n",
    "    rando = int(sum(np.random.rand(10) > 0.5))\n",
    "    print(f'Experiment {i:>2}: No. of Heads = {rando}')"
   ]
  }
 ],
 "metadata": {
  "kernelspec": {
   "display_name": "base",
   "language": "python",
   "name": "python3"
  },
  "language_info": {
   "codemirror_mode": {
    "name": "ipython",
    "version": 3
   },
   "file_extension": ".py",
   "mimetype": "text/x-python",
   "name": "python",
   "nbconvert_exporter": "python",
   "pygments_lexer": "ipython3",
   "version": "3.13.5"
  },
  "toc": {
   "base_numbering": 1,
   "nav_menu": {},
   "number_sections": true,
   "sideBar": true,
   "skip_h1_title": false,
   "title_cell": "Table of Contents",
   "title_sidebar": "Contents",
   "toc_cell": false,
   "toc_position": {},
   "toc_section_display": true,
   "toc_window_display": false
  }
 },
 "nbformat": 4,
 "nbformat_minor": 5
}
