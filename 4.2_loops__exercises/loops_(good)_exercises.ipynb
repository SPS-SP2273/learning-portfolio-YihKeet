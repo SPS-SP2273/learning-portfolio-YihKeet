{
 "cells": [
  {
   "attachments": {},
   "cell_type": "markdown",
   "id": "123456",
   "metadata": {},
   "source": [
    "<div style=\"text-align:left;font-size:2em\"><span style=\"font-weight:bolder;font-size:1.25em\">SP2273 | Learning Portfolio</span><br><br><span style=\"font-weight:bold;color:darkred\">Loops (Good) Exercises</span></div>"
   ]
  },
  {
   "cell_type": "markdown",
   "id": "c4e2fc9a",
   "metadata": {},
   "source": [
    "# Make me an odd list"
   ]
  },
  {
   "cell_type": "code",
   "execution_count": 13,
   "id": "3fcf98f9",
   "metadata": {},
   "outputs": [
    {
     "name": "stdout",
     "output_type": "stream",
     "text": [
      "1  9  25  49  81  "
     ]
    }
   ],
   "source": [
    "for number in range(10):\n",
    "    squ = number**2\n",
    "    if number % 2 == 0:\n",
    "        continue\n",
    "    print (squ, end='  ')"
   ]
  },
  {
   "cell_type": "markdown",
   "id": "71b83134",
   "metadata": {},
   "source": [
    "# Make me another odd list"
   ]
  },
  {
   "cell_type": "code",
   "execution_count": 19,
   "id": "bea2524f",
   "metadata": {},
   "outputs": [
    {
     "data": {
      "text/plain": [
       "[1, 9, 25, 49, 81]"
      ]
     },
     "execution_count": 19,
     "metadata": {},
     "output_type": "execute_result"
    }
   ],
   "source": [
    "[number**2 for number in range(10) if number%2 ==1]"
   ]
  },
  {
   "cell_type": "markdown",
   "id": "3d71b4f7",
   "metadata": {},
   "source": [
    "# Time me!"
   ]
  },
  {
   "cell_type": "code",
   "execution_count": 14,
   "id": "80e729e7",
   "metadata": {},
   "outputs": [
    {
     "name": "stdout",
     "output_type": "stream",
     "text": [
      "1.28 μs ± 59.6 ns per loop (mean ± std. dev. of 7 runs, 1,000,000 loops each)\n"
     ]
    }
   ],
   "source": [
    "%%timeit\n",
    "for number in range(10):\n",
    "    squ = number**2\n",
    "    if number % 2 == 0:\n",
    "        continue"
   ]
  },
  {
   "cell_type": "code",
   "execution_count": 16,
   "id": "065764b2",
   "metadata": {},
   "outputs": [
    {
     "name": "stdout",
     "output_type": "stream",
     "text": [
      "1.12 μs ± 60.8 ns per loop (mean ± std. dev. of 7 runs, 1,000,000 loops each)\n"
     ]
    }
   ],
   "source": [
    "%timeit [number**2 for number in range(10) if number%2 ==1]"
   ]
  },
  {
   "cell_type": "code",
   "execution_count": null,
   "id": "15509922",
   "metadata": {},
   "outputs": [],
   "source": [
    "# it took longer for the 'for loop' than the 'list comprehension' at 1.28us and 1.12us respectively.  "
   ]
  },
  {
   "cell_type": "markdown",
   "id": "af385e8a",
   "metadata": {},
   "source": [
    "# A problem of decay"
   ]
  },
  {
   "cell_type": "code",
   "execution_count": 1,
   "id": "2bef519f",
   "metadata": {},
   "outputs": [
    {
     "name": "stdout",
     "output_type": "stream",
     "text": [
      " 14  years, 48.77 units left.\n"
     ]
    }
   ],
   "source": [
    "x = 100\n",
    "y = 0\n",
    "\n",
    "while x>50:\n",
    "    x*=0.95\n",
    "    y+=1\n",
    "print(f' {y:^3} years, {float(x):^6.2f}units left.')\n"
   ]
  },
  {
   "cell_type": "markdown",
   "id": "5d645ab1",
   "metadata": {},
   "source": [
    "# Changes in CO<sub>2</sub>"
   ]
  },
  {
   "cell_type": "code",
   "execution_count": 109,
   "id": "8749285d",
   "metadata": {},
   "outputs": [
    {
     "name": "stdout",
     "output_type": "stream",
     "text": [
      "From 2015 to 2016, there is a 3.410ppm increase.\n"
     ]
    }
   ],
   "source": [
    "import numpy as np\n",
    "co2_data = [\n",
    "    (2000, 369.55), (2001, 371.14), (2002, 373.28), \n",
    "    (2003, 375.80), (2004, 377.52), (2005, 379.80), \n",
    "    (2006, 381.90), (2007, 383.79), (2008, 385.60), \n",
    "    (2009, 387.43), (2010, 389.90), (2011, 391.65), \n",
    "    (2012, 393.85), (2013, 396.52), (2014, 398.65),\n",
    "    (2015, 400.83), (2016, 404.24), (2017, 406.55), \n",
    "    (2018, 408.52), (2019, 411.44), (2020, 414.24)\n",
    "]\n",
    "\n",
    "np_array=np.array(co2_data)\n",
    "\n",
    "for i in range(len(np_array)-1):\n",
    "    d=i+1\n",
    "    diff = np_array[d,1] - np_array[i,1]\n",
    "    fdiff = float(diff)\n",
    "    if fdiff > 3:\n",
    "        print (f'From {int(np_array[i,0])} to {int(np_array[d,0])}, there is a {fdiff:.3f}ppm increase.')\n",
    "\n"
   ]
  }
 ],
 "metadata": {
  "kernelspec": {
   "display_name": "base",
   "language": "python",
   "name": "python3"
  },
  "language_info": {
   "codemirror_mode": {
    "name": "ipython",
    "version": 3
   },
   "file_extension": ".py",
   "mimetype": "text/x-python",
   "name": "python",
   "nbconvert_exporter": "python",
   "pygments_lexer": "ipython3",
   "version": "3.13.5"
  },
  "toc": {
   "base_numbering": 1,
   "nav_menu": {},
   "number_sections": true,
   "sideBar": true,
   "skip_h1_title": false,
   "title_cell": "Table of Contents",
   "title_sidebar": "Contents",
   "toc_cell": false,
   "toc_position": {},
   "toc_section_display": true,
   "toc_window_display": false
  }
 },
 "nbformat": 4,
 "nbformat_minor": 5
}
