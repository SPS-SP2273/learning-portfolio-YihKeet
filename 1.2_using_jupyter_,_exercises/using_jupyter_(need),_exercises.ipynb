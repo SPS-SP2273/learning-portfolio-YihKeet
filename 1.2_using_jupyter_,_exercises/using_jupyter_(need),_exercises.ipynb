{
 "cells": [
  {
   "attachments": {},
   "cell_type": "markdown",
   "id": "123456",
   "metadata": {},
   "source": [
    "<div style=\"text-align:left;font-size:2em\"><span style=\"font-weight:bolder;font-size:1.25em\">SP2273 | Learning Portfolio</span><br><br><span style=\"font-weight:bold;color:darkred\">Using Jupyter (Need), Exercises</span></div>"
   ]
  },
  {
   "attachments": {},
   "cell_type": "markdown",
   "id": "0aeaf1db",
   "metadata": {},
   "source": [
    "## 1 Quadratic Equations"
   ]
  },
  {
   "attachments": {},
   "cell_type": "markdown",
   "id": "0e566237",
   "metadata": {},
   "source": [
    "### Introduction"
   ]
  },
  {
   "cell_type": "markdown",
   "id": "f9f3c666",
   "metadata": {},
   "source": [
    "![](https://upload.wikimedia.org/wikipedia/commons/thumb/f/f8/Polynomialdeg2.svg/300px-Polynomialdeg2.svg.png)\n",
    "\n",
    "*(Image from the [Wikepedia page on Quadratic equations](https://en.wikipedia.org/wiki/Quadratic_equation))*\n",
    "\n",
    "The general form of a quadratic equation is:\n",
    "\n",
    "$$ax^{2}+bx+c=0$$"
   ]
  },
  {
   "attachments": {},
   "cell_type": "markdown",
   "id": "1e0c5450",
   "metadata": {},
   "source": [
    "### Solutions"
   ]
  },
  {
   "cell_type": "markdown",
   "id": "7ca056ce",
   "metadata": {},
   "source": [
    "Provided $a \\neq 0$, we can use an elementary algebraic method called [completing the square](https://en.wikipedia.org/wiki/Completing_the_square) to show that a quadratic equation has the following solution:\n",
    "\n",
    "$$x = \\frac {-b \\pm \\sqrt {b^{2} - 4ac}}{2a}$$"
   ]
  },
  {
   "attachments": {},
   "cell_type": "markdown",
   "id": "b46f9009",
   "metadata": {},
   "source": [
    "### Discriminant"
   ]
  },
  {
   "cell_type": "markdown",
   "id": "93368830",
   "metadata": {},
   "source": [
    "The quantity $\\Delta = b^2$ - 4ac is called the **driscriminant** of the equation and decides the nature of its solutions. The table below shows the various possibilities. \n",
    "|**Discriminant**|**Roots**|\n",
    "|:--:|:--|\n",
    "|$\\Delta = b^{2} -4ac = 0$|A single solution of $-\\frac{b}{2a}$|\n",
    "|$\\Delta = b^{2} - 4ac \\gt 0$|Two distinct solutions|\n",
    "|$\\Delta = b^{2} - 4ac \\lt 0$|No real solutions; both are complex|"
   ]
  },
  {
   "cell_type": "markdown",
   "id": "b3aaa00c",
   "metadata": {},
   "source": [
    "# 2 In Your Own Words"
   ]
  },
  {
   "cell_type": "markdown",
   "id": "13aeffd7",
   "metadata": {},
   "source": [
    "### 1. What is Git **repository**?"
   ]
  },
  {
   "cell_type": "markdown",
   "id": "9fa59feb",
   "metadata": {},
   "source": [
    "It is a storage location under Git, with the complete history of a file's (containing code, data, etc) progression and has the ability to revert back to a previous version. It also allows synchronisation with other people by committing, pushing and pulling of projects that is monitored/edited by many."
   ]
  },
  {
   "cell_type": "markdown",
   "id": "6e8a9058",
   "metadata": {},
   "source": [
    "### 2. Git keeps track of _____ in the files in our reporsitory."
   ]
  },
  {
   "cell_type": "markdown",
   "id": "30189dc8",
   "metadata": {},
   "source": [
    "progress"
   ]
  },
  {
   "cell_type": "markdown",
   "id": "a661580d",
   "metadata": {},
   "source": [
    "### 3. What is a **commit**?"
   ]
  },
  {
   "cell_type": "markdown",
   "id": "d5fabe81",
   "metadata": {},
   "source": [
    "It is to choose which file(s) to be **stored locally** in the device, together with a caption to notify others of an update in the project if pushed."
   ]
  },
  {
   "cell_type": "markdown",
   "id": "c0528f8a",
   "metadata": {},
   "source": [
    "### 4. What is a **push**?"
   ]
  },
  {
   "cell_type": "markdown",
   "id": "6b7a18ef",
   "metadata": {},
   "source": [
    "It is to **publish** the (newly updated) file(s) into the **cloud**, which is accessible for others to pull."
   ]
  },
  {
   "cell_type": "markdown",
   "id": "c64f2af9",
   "metadata": {},
   "source": [
    "### 5. What is a **pull**?"
   ]
  },
  {
   "cell_type": "markdown",
   "id": "9b5fa122",
   "metadata": {},
   "source": [
    "It is to **retrieve** a file(s) from the **cloud** to be **stored locally**."
   ]
  },
  {
   "cell_type": "markdown",
   "id": "2ced1146",
   "metadata": {},
   "source": [
    "### 6. What is the difference between **GitHub** and **GitHub Desktop**?"
   ]
  },
  {
   "cell_type": "markdown",
   "id": "a4104b60",
   "metadata": {},
   "source": [
    "GitHub is a storage cloud, while GitHub Desktop is the appplication needed for communication, committing, pushing and pulling of files to and from GitHub."
   ]
  },
  {
   "cell_type": "markdown",
   "id": "efcd0602",
   "metadata": {},
   "source": [
    "# 3 A Matter of Statistics"
   ]
  },
  {
   "cell_type": "markdown",
   "id": "79ff30f1",
   "metadata": {},
   "source": [
    "$\\mu = \\frac{1}{n} \\sum^{n}_{i=1} x_{i}$"
   ]
  },
  {
   "cell_type": "markdown",
   "id": "82b265c7",
   "metadata": {},
   "source": [
    "$\\sigma = \\sqrt{\\frac{1}{n} \\sum^{n}_{i=1} (x_{i} - \\mu)^{2}}$"
   ]
  },
  {
   "cell_type": "markdown",
   "id": "48d8956a",
   "metadata": {},
   "source": [
    "$r = \\frac{\\sum^{n}_{i=1} (x_{i} - \\mu_{X})(y_{i} - \\mu_{Y})}{\\sqrt{\\sum^{n}_{i=1} (x_{i} - \\mu_{X})^{2} \\sum^{n}_{i=1} (y_{i} - \\mu_{Y})^{2}}}$"
   ]
  }
 ],
 "metadata": {
  "kernelspec": {
   "display_name": "Python 3 (ipykernel)",
   "language": "python",
   "name": "python3"
  },
  "language_info": {
   "codemirror_mode": {
    "name": "ipython",
    "version": 3
   },
   "file_extension": ".py",
   "mimetype": "text/x-python",
   "name": "python",
   "nbconvert_exporter": "python",
   "pygments_lexer": "ipython3",
   "version": "3.13.5"
  },
  "toc": {
   "base_numbering": 1,
   "nav_menu": {},
   "number_sections": true,
   "sideBar": true,
   "skip_h1_title": false,
   "title_cell": "Table of Contents",
   "title_sidebar": "Contents",
   "toc_cell": false,
   "toc_position": {},
   "toc_section_display": true,
   "toc_window_display": false
  },
  "vscode": {
   "interpreter": {
    "hash": "31f2aee4e71d21fbe5cf8b01ff0e069b9275f58929596ceb00d14d90e3e16cd6"
   }
  }
 },
 "nbformat": 4,
 "nbformat_minor": 5
}
