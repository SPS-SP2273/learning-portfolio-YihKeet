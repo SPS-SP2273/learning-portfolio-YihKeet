{
 "cells": [
  {
   "attachments": {},
   "cell_type": "markdown",
   "id": "123456",
   "metadata": {},
   "source": [
    "<div style=\"text-align:left;font-size:2em\"><span style=\"font-weight:bolder;font-size:1.25em\">SP2273 | Learning Portfolio</span><br><br><span style=\"font-weight:bold;color:darkred\">Storing Data (Need) Exercises</span></div>"
   ]
  },
  {
   "cell_type": "markdown",
   "id": "5f77b9c0",
   "metadata": {},
   "source": [
    "# Total recall?"
   ]
  },
  {
   "cell_type": "markdown",
   "id": "03ad85ee",
   "metadata": {},
   "source": [
    "1. Two similarities\n",
    "- The function len() works on both lists and arrays to indicate the total elements in all the indexes.\n",
    "- *Both are able to produce higher dimensional data storing (2D).*\n",
    "\n",
    "2. Two sifferences\n",
    "- The output of multiplication and squaring are different. Multiplying a list will duplicate the list while multiplying an array will lead to multiplication of each value within. Squaring a list will yield an error while squaring an array will lead to squaring of each value within.\n",
    "- *When storing a mix of English words and values, a list is able to distinguish them, while an array will treat all as an English word, adding quotation marks around the numbers.*\n",
    "\n",
    "3. Dictionary\n",
    "- It is a form of storing data, using keys and values. Values can be found if the corresponding keys are chosen in a function. "
   ]
  },
  {
   "cell_type": "markdown",
   "id": "4a333aa0",
   "metadata": {},
   "source": [
    "# Indexing"
   ]
  },
  {
   "cell_type": "code",
   "execution_count": 1,
   "id": "4c8f9dd1",
   "metadata": {},
   "outputs": [
    {
     "name": "stdout",
     "output_type": "stream",
     "text": [
      "a1\n",
      "c3\n",
      "e5\n",
      "g7\n",
      "i9\n"
     ]
    }
   ],
   "source": [
    "py_list = [\"a1\", \"b2\", \"c3\", \"d4\", \"e5\", \"f6\", \"g7\", \"h8\", \"i9\", \"j10\"]\n",
    "print(py_list[0])   # Prints 'a1'\n",
    "print(py_list[2])   # Prints 'c3'\n",
    "print(py_list[4])   # Prints 'e5'\n",
    "print(py_list[6])   # Prints 'g7'\n",
    "print(py_list[8])   # Prints 'i9'"
   ]
  },
  {
   "cell_type": "markdown",
   "id": "51dbeff3",
   "metadata": {},
   "source": [
    "# Index again"
   ]
  },
  {
   "cell_type": "code",
   "execution_count": 5,
   "id": "15582728",
   "metadata": {},
   "outputs": [
    {
     "name": "stdout",
     "output_type": "stream",
     "text": [
      "Boron\n",
      "Boron\n"
     ]
    }
   ],
   "source": [
    "elements = ['Hydrogen',\n",
    "            'Helium', 'Lithium',\n",
    "            'Beryllium', 'Boron', 'Carbon',\n",
    "            'Nitrogen', 'Oxygen',\n",
    "            'Fluorine',\n",
    "            'Neon']\n",
    "\n",
    "print(elements[4])\n",
    "print(elements[-6])"
   ]
  },
  {
   "cell_type": "markdown",
   "id": "ad27ec71",
   "metadata": {},
   "source": [
    "# How many ones?"
   ]
  },
  {
   "cell_type": "code",
   "execution_count": 14,
   "id": "cfad9044",
   "metadata": {},
   "outputs": [
    {
     "name": "stdout",
     "output_type": "stream",
     "text": [
      "There are 9 number 1's in the list 'numbers'.\n"
     ]
    }
   ],
   "source": [
    "import numpy as np\n",
    "numbers=[45, 60, 1, 30, 96, 1, 96, 57, 16, 1,\n",
    "        99, 62, 86, 43, 42, 60, 59, 1, 1, 35,\n",
    "        83, 47, 34, 28, 68, 23, 22, 92, 1, 79,\n",
    "        1, 29, 94, 72, 46, 47, 1, 74, 32, 20,\n",
    "        8, 37, 35, 1, 89, 29, 86, 19, 43, 61]                  \n",
    "np_array = np.array(numbers)\n",
    "\n",
    "print(f'There are {sum(np_array ==1)} number 1\\'s in the list \\'numbers\\'.')"
   ]
  },
  {
   "cell_type": "markdown",
   "id": "26d134d1",
   "metadata": {},
   "source": [
    "# A Matter of Statistics"
   ]
  },
  {
   "cell_type": "code",
   "execution_count": 20,
   "id": "1b175d71",
   "metadata": {},
   "outputs": [],
   "source": [
    "import numpy as np\n",
    "x_1 = [1, 4, 9, 16, 25, 36, 49, 64, 81, 100]\n",
    "x_2 = [1, 8, 27, 64, 125, 216, 343, 512, 729, 1000]\n",
    "\n",
    "np_array1 = np.array(x_1)\n",
    "np_array2 = np.array(x_2)"
   ]
  },
  {
   "cell_type": "code",
   "execution_count": 22,
   "id": "16351956",
   "metadata": {},
   "outputs": [
    {
     "data": {
      "text/plain": [
       "(np.float64(38.5), np.float64(302.5))"
      ]
     },
     "execution_count": 22,
     "metadata": {},
     "output_type": "execute_result"
    }
   ],
   "source": [
    "# means\n",
    "np_array1.mean(), np_array2.mean()"
   ]
  },
  {
   "cell_type": "code",
   "execution_count": 23,
   "id": "9249b437",
   "metadata": {},
   "outputs": [
    {
     "data": {
      "text/plain": [
       "(np.float64(32.41990129534635), np.float64(326.0893282522444))"
      ]
     },
     "execution_count": 23,
     "metadata": {},
     "output_type": "execute_result"
    }
   ],
   "source": [
    "# standard deviations\n",
    "np_array1.std(), np_array2.std()"
   ]
  },
  {
   "cell_type": "code",
   "execution_count": 42,
   "id": "babacb22",
   "metadata": {},
   "outputs": [
    {
     "data": {
      "text/plain": [
       "[np.float64(0.9871796626270701)]"
      ]
     },
     "execution_count": 42,
     "metadata": {},
     "output_type": "execute_result"
    }
   ],
   "source": [
    "# Pearson correlation coefficient\n",
    "# numerator \n",
    "numerator = np.sum((np_array1 - np_array1.mean())*(np_array2 - np_array2.mean()))\n",
    "\n",
    "# denominator\n",
    "denominator = np.sqrt(np.sum((np_array1 - np_array1.mean())**2)*np.sum((np_array2 - np_array2.mean())**2))\n",
    "\n",
    "[numerator/denominator]"
   ]
  },
  {
   "cell_type": "code",
   "execution_count": 26,
   "id": "b99953bb",
   "metadata": {},
   "outputs": [
    {
     "name": "stdout",
     "output_type": "stream",
     "text": [
      "[[1.         0.98717966]\n",
      " [0.98717966 1.        ]]\n"
     ]
    }
   ],
   "source": [
    "# comparing Pearson correlation coefficient with np.corrcoef().\n",
    "correlation_matrix = np.corrcoef(np_array1, np_array2)\n",
    "print(correlation_matrix)\n",
    "\n",
    "# the calculated values and value computed are very similar, at least down to the 8 decimal place. this suggests that the numpy package uses the same and raw data as the method used above. given that the coeffecient is very close to +1, it indicates a near perfect positive linear relationship between x1 and x2. "
   ]
  }
 ],
 "metadata": {
  "kernelspec": {
   "display_name": "base",
   "language": "python",
   "name": "python3"
  },
  "language_info": {
   "codemirror_mode": {
    "name": "ipython",
    "version": 3
   },
   "file_extension": ".py",
   "mimetype": "text/x-python",
   "name": "python",
   "nbconvert_exporter": "python",
   "pygments_lexer": "ipython3",
   "version": "3.13.5"
  },
  "toc": {
   "base_numbering": 1,
   "nav_menu": {},
   "number_sections": true,
   "sideBar": true,
   "skip_h1_title": false,
   "title_cell": "Table of Contents",
   "title_sidebar": "Contents",
   "toc_cell": false,
   "toc_position": {},
   "toc_section_display": true,
   "toc_window_display": false
  }
 },
 "nbformat": 4,
 "nbformat_minor": 5
}
