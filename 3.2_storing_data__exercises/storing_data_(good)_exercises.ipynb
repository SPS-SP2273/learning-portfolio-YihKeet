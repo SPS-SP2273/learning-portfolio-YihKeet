{
 "cells": [
  {
   "attachments": {},
   "cell_type": "markdown",
   "id": "123456",
   "metadata": {},
   "source": [
    "<div style=\"text-align:left;font-size:2em\"><span style=\"font-weight:bolder;font-size:1.25em\">SP2273 | Learning Portfolio</span><br><br><span style=\"font-weight:bold;color:darkred\">Storing Data (Good) Exercises</span></div>"
   ]
  },
  {
   "cell_type": "markdown",
   "id": "869549f2",
   "metadata": {},
   "source": [
    "# Total Recall"
   ]
  },
  {
   "cell_type": "markdown",
   "id": "54cdc80c",
   "metadata": {},
   "source": [
    "| **Term** | **Brief Description**|\n",
    "|:--| :--:|\n",
    "|Subsetting| It means to choose |\n",
    "|Indexing| *Applies to list and array, ability to choose an element*|\n",
    "|Slicing| *Applies to list and array, ability to choose a range*|\n",
    "|Masking| Applies to array only, it only shows what is wanted and 'hides' the rest|"
   ]
  },
  {
   "cell_type": "markdown",
   "id": "024b7e4c",
   "metadata": {},
   "source": [
    "# Show me the 'odd' letters"
   ]
  },
  {
   "cell_type": "code",
   "execution_count": 13,
   "id": "f2d3f48c",
   "metadata": {},
   "outputs": [
    {
     "name": "stdout",
     "output_type": "stream",
     "text": [
      "['A' 'C' 'E' 'G' 'I']\n"
     ]
    }
   ],
   "source": [
    "import numpy as np\n",
    "np_array_2d = np.array([[1, \"A\"], [3, \"C\"], [2, \"B\"], [4, \"D\"],\n",
    "                        [5, \"E\"], [7, \"G\"], [6, \"F\"], [8, \"H\"],\n",
    "                        [10, \"J\"], [9, \"I\"]])\n",
    "\n",
    "# subset first elements\n",
    "first_elements = np_array_2d[:,0]\n",
    "\n",
    "# convert to intergers using astype(int)\n",
    "intergers_array = first_elements.astype(int)\n",
    "\n",
    "# reminader after divide by 2\n",
    "x = intergers_array%2\n",
    "\n",
    "# mask if remainder is zero or not\n",
    "masked = x==1\n",
    "\n",
    "# extract letters in those odd locations\n",
    "letters = np_array_2d[:,1]\n",
    "print(letters[masked])\n"
   ]
  },
  {
   "cell_type": "markdown",
   "id": "f546bd62",
   "metadata": {},
   "source": [
    "# Masking and Changing"
   ]
  },
  {
   "cell_type": "code",
   "execution_count": 20,
   "id": "02ec4b12",
   "metadata": {},
   "outputs": [
    {
     "data": {
      "text/plain": [
       "array([[ 1,  0,  1, -1, -1],\n",
       "       [ 1, -1,  1, -1, -1],\n",
       "       [ 1, -1, -1,  1, -1],\n",
       "       [-1,  1,  1, -1, -1],\n",
       "       [ 1, -1,  1, -1,  1]])"
      ]
     },
     "execution_count": 20,
     "metadata": {},
     "output_type": "execute_result"
    }
   ],
   "source": [
    "import numpy as np\n",
    "\n",
    "x = [[66, 50, 57, -1, -1],\n",
    " [92, -1, 88, -1, -1],\n",
    " [75, -1, -1, 76, -1],\n",
    " [-1, 51, 87, -1, -1],\n",
    " [71, -1, 67, -1, 69]]\n",
    "\n",
    "np_array = np.array(x)              # masking only works on array\n",
    "masked = np_array.copy()\n",
    "\n",
    "masked[np_array<50] = -1\n",
    "masked[np_array>50] = 1\n",
    "masked[np_array==50] = 0\n",
    "\n",
    "masked"
   ]
  }
 ],
 "metadata": {
  "kernelspec": {
   "display_name": "base",
   "language": "python",
   "name": "python3"
  },
  "language_info": {
   "codemirror_mode": {
    "name": "ipython",
    "version": 3
   },
   "file_extension": ".py",
   "mimetype": "text/x-python",
   "name": "python",
   "nbconvert_exporter": "python",
   "pygments_lexer": "ipython3",
   "version": "3.13.5"
  },
  "toc": {
   "base_numbering": 1,
   "nav_menu": {},
   "number_sections": true,
   "sideBar": true,
   "skip_h1_title": false,
   "title_cell": "Table of Contents",
   "title_sidebar": "Contents",
   "toc_cell": false,
   "toc_position": {},
   "toc_section_display": true,
   "toc_window_display": false
  }
 },
 "nbformat": 4,
 "nbformat_minor": 5
}
