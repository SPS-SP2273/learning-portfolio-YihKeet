{
 "cells": [
  {
   "attachments": {},
   "cell_type": "markdown",
   "id": "123456",
   "metadata": {},
   "source": [
    "<div style=\"text-align:left;font-size:2em\"><span style=\"font-weight:bolder;font-size:1.25em\">SP2273 | Learning Portfolio</span><br><br><span style=\"font-weight:bold;color:darkred\">Files, Folders & OS (Need) Exercises</span></div>"
   ]
  },
  {
   "cell_type": "markdown",
   "id": "e414db7f",
   "metadata": {},
   "source": [
    "# The Scenario"
   ]
  },
  {
   "cell_type": "code",
   "execution_count": 14,
   "id": "d1120fa4",
   "metadata": {},
   "outputs": [],
   "source": [
    "import os\n",
    "import glob\n",
    "import shutil\n",
    "import numpy as np\n"
   ]
  },
  {
   "cell_type": "markdown",
   "id": "c5ca4a85",
   "metadata": {},
   "source": [
    "# Task 1 Rename"
   ]
  },
  {
   "cell_type": "code",
   "execution_count": 15,
   "id": "2dce96b7",
   "metadata": {},
   "outputs": [
    {
     "data": {
      "text/plain": [
       "['os-collaboration-exercise-data/os-collaboration-exercise-data\\\\aug-08_singapore.txt',\n",
       " 'os-collaboration-exercise-data/os-collaboration-exercise-data\\\\feb-08_singapore.txt',\n",
       " 'os-collaboration-exercise-data/os-collaboration-exercise-data\\\\jul-08_singapore.txt',\n",
       " 'os-collaboration-exercise-data/os-collaboration-exercise-data\\\\jun-08_singapore.txt',\n",
       " 'os-collaboration-exercise-data/os-collaboration-exercise-data\\\\may-08_singapore.txt',\n",
       " 'os-collaboration-exercise-data/os-collaboration-exercise-data\\\\nov-08_singapore.txt']"
      ]
     },
     "execution_count": 15,
     "metadata": {},
     "output_type": "execute_result"
    }
   ],
   "source": [
    "glob.glob('os-collaboration-exercise-data/os-collaboration-exercise-data/*08_singapore.txt', recursive=True) # no oct file called this"
   ]
  },
  {
   "cell_type": "code",
   "execution_count": 16,
   "id": "293b53ff",
   "metadata": {},
   "outputs": [
    {
     "name": "stdout",
     "output_type": "stream",
     "text": [
      "10-08-singapore.txt\n"
     ]
    }
   ],
   "source": [
    "path = 'os-collaboration-exercise-data/oct-08_singapore.txt'\n",
    "\n",
    "# separate filename from path\n",
    "filename = os.path.split(path)[1] # oct-08_singapore.txt\n",
    "\n",
    "# separate front and back from filename (oct-08_singapore.txt)\n",
    "sfilename = filename.split('-')[0]  # oct\n",
    "s_filename = filename.split('-')[1]  # 08_singapore.txt\n",
    "\n",
    "# separate number from s_filename to get rid of _ (08_singapore.txt)\n",
    "nfilename = str(s_filename.split('_')[0]) # 08\n",
    "bfilename = s_filename.split('_')[1]      # singapore.txt\n",
    "\n",
    "# selecting element from dictionary\n",
    "month_number = {\n",
    "'jan': '01', 'feb': '02', 'mar': '03',\n",
    "'apr': '04', 'may': '05', 'jun': '06',\n",
    "'jul': '07', 'aug': '08', 'sep': '09',\n",
    "'oct': '10', 'nov': '11', 'dec': '12'\n",
    "}\n",
    "month_number[sfilename]                 #10\n",
    "\n",
    "# joining the word together\n",
    "joining = month_number[sfilename] + '-' + nfilename + '-' + bfilename\n",
    "print(joining)"
   ]
  },
  {
   "cell_type": "markdown",
   "id": "f787fec8",
   "metadata": {},
   "source": [
    "# Task 2 Function"
   ]
  },
  {
   "cell_type": "code",
   "execution_count": 17,
   "id": "6840f6b3",
   "metadata": {},
   "outputs": [
    {
     "data": {
      "text/plain": [
       "'10-08-singapore.txt'"
      ]
     },
     "execution_count": 17,
     "metadata": {},
     "output_type": "execute_result"
    }
   ],
   "source": [
    "def rename_my_file(old_file_name):\n",
    "    # separate front and back from filename (oct-08_singapore.txt)\n",
    "    sfilename = old_file_name.split('-')[0]  # oct\n",
    "    s_filename = old_file_name.split('-')[1]  # 08_singapore.txt\n",
    "\n",
    "    # separate number from s_filename to get rid of _\n",
    "    nfilename = str(s_filename.split('_')[0]) # 08\n",
    "    bfilename = s_filename.split('_')[1]      # singapore.txt\n",
    "\n",
    "    # selecting element from dictionary\n",
    "    month_number = {\n",
    "    'jan': '01', 'feb': '02', 'mar': '03',\n",
    "    'apr': '04', 'may': '05', 'jun': '06',\n",
    "    'jul': '07', 'aug': '08', 'sep': '09',\n",
    "    'oct': '10', 'nov': '11', 'dec': '12'\n",
    "    }\n",
    "    month_number[sfilename]                 #10\n",
    "\n",
    "    # joining the word together\n",
    "    joining = month_number[sfilename] + '-' + nfilename + '-' + bfilename\n",
    "    return joining\n",
    "    \n",
    "    \n",
    "rename_my_file('oct-08_singapore.txt')"
   ]
  },
  {
   "cell_type": "markdown",
   "id": "b1966cf2",
   "metadata": {},
   "source": [
    "# Task 3 For loop on function"
   ]
  },
  {
   "cell_type": "code",
   "execution_count": 18,
   "id": "fb46cc98",
   "metadata": {},
   "outputs": [
    {
     "name": "stdout",
     "output_type": "stream",
     "text": [
      "oct-08_singapore.txt      10-08-singapore.txt\n",
      "jul-10_cairo.txt          07-10-cairo.txt\n",
      "may-15_dhaka.txt          05-15-dhaka.txt\n",
      "may-13_cairo.txt          05-13-cairo.txt\n",
      "oct-21_cairo.txt          10-21-cairo.txt\n",
      "jan-10_singapore.txt      01-10-singapore.txt\n",
      "jun-20_tokyo.txt          06-20-tokyo.txt\n",
      "aug-06_jakarta.txt        08-06-jakarta.txt\n",
      "dec-21_karachi.txt        12-21-karachi.txt\n",
      "jan-01_tokyo.txt          01-01-tokyo.txt\n"
     ]
    }
   ],
   "source": [
    "oldlist = ['oct-08_singapore.txt', 'jul-10_cairo.txt', 'may-15_dhaka.txt',\n",
    " 'may-13_cairo.txt', 'oct-21_cairo.txt', 'jan-10_singapore.txt',\n",
    " 'jun-20_tokyo.txt', 'aug-06_jakarta.txt', 'dec-21_karachi.txt',\n",
    " 'jan-01_tokyo.txt']\n",
    "\n",
    "\n",
    "for i in range(len(oldlist)):       # for loop with def\n",
    "    filename = oldlist[i]\n",
    "    sfilename = filename.split('-')[0] \n",
    "    s_filename = filename.split('-')[1]\n",
    "    nfilename = str(s_filename.split('_')[0])\n",
    "    bfilename = s_filename.split('_')[1]\n",
    "    joining = month_number[sfilename] + '-' + nfilename + '-' + bfilename\n",
    "    text1 = str(oldlist[i])\n",
    "    text2 = str(joining)\n",
    "    print(f'{text1:<25} {text2:>10}')\n"
   ]
  },
  {
   "cell_type": "code",
   "execution_count": 19,
   "id": "c9114c2a",
   "metadata": {},
   "outputs": [
    {
     "name": "stdout",
     "output_type": "stream",
     "text": [
      "oct-08_singapore.txt --> 10-08-singapore.txt \n",
      "  jul-10_cairo.txt   -->   07-10-cairo.txt   \n",
      "  may-15_dhaka.txt   -->   05-15-dhaka.txt   \n",
      "  may-13_cairo.txt   -->   05-13-cairo.txt   \n",
      "  oct-21_cairo.txt   -->   10-21-cairo.txt   \n",
      "jan-10_singapore.txt --> 01-10-singapore.txt \n",
      "  jun-20_tokyo.txt   -->   06-20-tokyo.txt   \n",
      " aug-06_jakarta.txt  -->  08-06-jakarta.txt  \n",
      " dec-21_karachi.txt  -->  12-21-karachi.txt  \n",
      "  jan-01_tokyo.txt   -->   01-01-tokyo.txt   \n"
     ]
    }
   ],
   "source": [
    "oldlist = ['oct-08_singapore.txt', 'jul-10_cairo.txt', 'may-15_dhaka.txt',\n",
    " 'may-13_cairo.txt', 'oct-21_cairo.txt', 'jan-10_singapore.txt',\n",
    " 'jun-20_tokyo.txt', 'aug-06_jakarta.txt', 'dec-21_karachi.txt',\n",
    " 'jan-01_tokyo.txt']\n",
    "newlist = []                    # creates new list \n",
    "\n",
    "for i in oldlist:              \n",
    "    newfile = rename_my_file(i)\n",
    "    newlist.append(newfile)     # to update list with every i in oldlist\n",
    "\n",
    "newlist1 = np.array(newlist)    # turn into array for enumerate (to pair old and new lists)\n",
    "oldlist1 = np.array(oldlist)    # ^\n",
    "\n",
    "for index, olddata in enumerate(oldlist):\n",
    "    newdata = newlist1[index]\n",
    "    print(f'{olddata:^20} --> {newdata:^20}')"
   ]
  },
  {
   "cell_type": "markdown",
   "id": "ead64182",
   "metadata": {},
   "source": [
    "# Task 4 Rename"
   ]
  },
  {
   "cell_type": "code",
   "execution_count": 20,
   "id": "7b6a3010",
   "metadata": {},
   "outputs": [],
   "source": [
    "txtfile = glob.glob('os-collaboration-exercise-data/os-collaboration-exercise-data/*.txt',recursive=True)\n",
    "\n",
    "try:\n",
    "    for x in txtfile:\n",
    "        path = fr'{x}'                              # f because there is {x}, r is used to nullify the \\ and /\n",
    "        filename = path.split(os.path.sep)[-1]      # extract *.txt\n",
    "        pathname = path.split(os.path.sep)[0]       # extract os-collaboration-exercise-data/os-collaboration-exercise-data\n",
    "        newname = rename_my_file(filename)          # apply rename_my_file function\n",
    "        joiningpath = os.path.join(pathname, newname)   # rejoin the path name\n",
    "        os.rename(x, joiningpath)                   # to rename the files\n",
    "except IndexError:                                  # it the changes hav been done\n",
    "    print(f'already changed')\n",
    "\n",
    "    "
   ]
  },
  {
   "cell_type": "markdown",
   "id": "16aeea4d",
   "metadata": {},
   "source": [
    "# Task 5 City folder"
   ]
  },
  {
   "cell_type": "code",
   "execution_count": 21,
   "id": "23476ac4",
   "metadata": {},
   "outputs": [
    {
     "name": "stdout",
     "output_type": "stream",
     "text": [
      "creating ex_file\n",
      "creating citylist\\Cairo\n",
      "creating citylist\\Dhaka\n",
      "creating citylist\\Jakarta\n",
      "creating citylist\\Karachi\n",
      "creating citylist\\Manila\n",
      "creating citylist\\Melbourne\n",
      "creating citylist\\Osaka\n",
      "creating citylist\\Shanghai\n",
      "creating citylist\\Singapore\n",
      "creating citylist\\Tokyo\n"
     ]
    }
   ],
   "source": [
    "citylist = ['Cairo', 'Dhaka', 'Jakarta', 'Karachi', 'Manila',\n",
    " 'Melbourne', 'Osaka', 'Shanghai', 'Singapore', 'Tokyo']\n",
    "\n",
    "try:\n",
    "    os.mkdir('citylist')                                   # creates a directory called citylist\n",
    "    print(f'creating ex_file')\n",
    "except FileExistsError:                                     # skip if already created\n",
    "    print(f'ex_file already exists,  skipping creation.')\n",
    "\n",
    "for city in citylist:   # create files/folders within\n",
    "    path = os.path.join('citylist', city)                   # for every city name, create a folder in the directory\n",
    "    try:\n",
    "        os.mkdir(path)\n",
    "        print(f'creating {path}')\n",
    "    except FileExistsError:\n",
    "        print(f'{path} already exists; skipping creation')\n"
   ]
  },
  {
   "cell_type": "markdown",
   "id": "9f6b1a02",
   "metadata": {},
   "source": [
    "# Task 6 Copy Cairo"
   ]
  },
  {
   "cell_type": "code",
   "execution_count": 22,
   "id": "873eda74",
   "metadata": {},
   "outputs": [
    {
     "data": {
      "text/plain": [
       "['citylist/Cairo\\\\']"
      ]
     },
     "execution_count": 22,
     "metadata": {},
     "output_type": "execute_result"
    }
   ],
   "source": [
    "glob.glob('citylist/Cairo/**', recursive=True)              # all the files in citylist/Cairo"
   ]
  },
  {
   "cell_type": "code",
   "execution_count": 23,
   "id": "68a96932",
   "metadata": {},
   "outputs": [
    {
     "data": {
      "text/plain": [
       "['os-collaboration-exercise-data/os-collaboration-exercise-data\\\\01-02-cairo.txt',\n",
       " 'os-collaboration-exercise-data/os-collaboration-exercise-data\\\\01-03-cairo.txt',\n",
       " 'os-collaboration-exercise-data/os-collaboration-exercise-data\\\\01-04-cairo.txt',\n",
       " 'os-collaboration-exercise-data/os-collaboration-exercise-data\\\\01-05-cairo.txt',\n",
       " 'os-collaboration-exercise-data/os-collaboration-exercise-data\\\\01-07-cairo.txt',\n",
       " 'os-collaboration-exercise-data/os-collaboration-exercise-data\\\\01-08-cairo.txt',\n",
       " 'os-collaboration-exercise-data/os-collaboration-exercise-data\\\\01-09-cairo.txt',\n",
       " 'os-collaboration-exercise-data/os-collaboration-exercise-data\\\\01-11-cairo.txt',\n",
       " 'os-collaboration-exercise-data/os-collaboration-exercise-data\\\\01-12-cairo.txt',\n",
       " 'os-collaboration-exercise-data/os-collaboration-exercise-data\\\\01-13-cairo.txt',\n",
       " 'os-collaboration-exercise-data/os-collaboration-exercise-data\\\\01-15-cairo.txt',\n",
       " 'os-collaboration-exercise-data/os-collaboration-exercise-data\\\\01-16-cairo.txt',\n",
       " 'os-collaboration-exercise-data/os-collaboration-exercise-data\\\\01-19-cairo.txt',\n",
       " 'os-collaboration-exercise-data/os-collaboration-exercise-data\\\\01-20-cairo.txt',\n",
       " 'os-collaboration-exercise-data/os-collaboration-exercise-data\\\\01-21-cairo.txt',\n",
       " 'os-collaboration-exercise-data/os-collaboration-exercise-data\\\\01-23-cairo.txt',\n",
       " 'os-collaboration-exercise-data/os-collaboration-exercise-data\\\\01-27-cairo.txt',\n",
       " 'os-collaboration-exercise-data/os-collaboration-exercise-data\\\\01-30-cairo.txt',\n",
       " 'os-collaboration-exercise-data/os-collaboration-exercise-data\\\\02-10-cairo.txt',\n",
       " 'os-collaboration-exercise-data/os-collaboration-exercise-data\\\\02-17-cairo.txt',\n",
       " 'os-collaboration-exercise-data/os-collaboration-exercise-data\\\\02-20-cairo.txt',\n",
       " 'os-collaboration-exercise-data/os-collaboration-exercise-data\\\\02-22-cairo.txt',\n",
       " 'os-collaboration-exercise-data/os-collaboration-exercise-data\\\\02-25-cairo.txt',\n",
       " 'os-collaboration-exercise-data/os-collaboration-exercise-data\\\\02-26-cairo.txt',\n",
       " 'os-collaboration-exercise-data/os-collaboration-exercise-data\\\\03-05-cairo.txt',\n",
       " 'os-collaboration-exercise-data/os-collaboration-exercise-data\\\\03-06-cairo.txt',\n",
       " 'os-collaboration-exercise-data/os-collaboration-exercise-data\\\\03-12-cairo.txt',\n",
       " 'os-collaboration-exercise-data/os-collaboration-exercise-data\\\\03-14-cairo.txt',\n",
       " 'os-collaboration-exercise-data/os-collaboration-exercise-data\\\\03-19-cairo.txt',\n",
       " 'os-collaboration-exercise-data/os-collaboration-exercise-data\\\\03-24-cairo.txt',\n",
       " 'os-collaboration-exercise-data/os-collaboration-exercise-data\\\\04-02-cairo.txt',\n",
       " 'os-collaboration-exercise-data/os-collaboration-exercise-data\\\\04-06-cairo.txt',\n",
       " 'os-collaboration-exercise-data/os-collaboration-exercise-data\\\\04-07-cairo.txt',\n",
       " 'os-collaboration-exercise-data/os-collaboration-exercise-data\\\\04-10-cairo.txt',\n",
       " 'os-collaboration-exercise-data/os-collaboration-exercise-data\\\\04-12-cairo.txt',\n",
       " 'os-collaboration-exercise-data/os-collaboration-exercise-data\\\\04-13-cairo.txt',\n",
       " 'os-collaboration-exercise-data/os-collaboration-exercise-data\\\\04-14-cairo.txt',\n",
       " 'os-collaboration-exercise-data/os-collaboration-exercise-data\\\\04-15-cairo.txt',\n",
       " 'os-collaboration-exercise-data/os-collaboration-exercise-data\\\\04-17-cairo.txt',\n",
       " 'os-collaboration-exercise-data/os-collaboration-exercise-data\\\\04-20-cairo.txt',\n",
       " 'os-collaboration-exercise-data/os-collaboration-exercise-data\\\\04-21-cairo.txt',\n",
       " 'os-collaboration-exercise-data/os-collaboration-exercise-data\\\\04-22-cairo.txt',\n",
       " 'os-collaboration-exercise-data/os-collaboration-exercise-data\\\\04-23-cairo.txt',\n",
       " 'os-collaboration-exercise-data/os-collaboration-exercise-data\\\\04-24-cairo.txt',\n",
       " 'os-collaboration-exercise-data/os-collaboration-exercise-data\\\\05-01-cairo.txt',\n",
       " 'os-collaboration-exercise-data/os-collaboration-exercise-data\\\\05-02-cairo.txt',\n",
       " 'os-collaboration-exercise-data/os-collaboration-exercise-data\\\\05-12-cairo.txt',\n",
       " 'os-collaboration-exercise-data/os-collaboration-exercise-data\\\\05-17-cairo.txt',\n",
       " 'os-collaboration-exercise-data/os-collaboration-exercise-data\\\\05-25-cairo.txt',\n",
       " 'os-collaboration-exercise-data/os-collaboration-exercise-data\\\\05-27-cairo.txt',\n",
       " 'os-collaboration-exercise-data/os-collaboration-exercise-data\\\\05-29-cairo.txt',\n",
       " 'os-collaboration-exercise-data/os-collaboration-exercise-data\\\\05-30-cairo.txt',\n",
       " 'os-collaboration-exercise-data/os-collaboration-exercise-data\\\\06-28-cairo.txt',\n",
       " 'os-collaboration-exercise-data/os-collaboration-exercise-data\\\\07-04-cairo.txt',\n",
       " 'os-collaboration-exercise-data/os-collaboration-exercise-data\\\\07-08-cairo.txt',\n",
       " 'os-collaboration-exercise-data/os-collaboration-exercise-data\\\\07-10-cairo.txt',\n",
       " 'os-collaboration-exercise-data/os-collaboration-exercise-data\\\\07-13-cairo.txt',\n",
       " 'os-collaboration-exercise-data/os-collaboration-exercise-data\\\\07-14-cairo.txt',\n",
       " 'os-collaboration-exercise-data/os-collaboration-exercise-data\\\\07-15-cairo.txt',\n",
       " 'os-collaboration-exercise-data/os-collaboration-exercise-data\\\\07-16-cairo.txt',\n",
       " 'os-collaboration-exercise-data/os-collaboration-exercise-data\\\\07-17-cairo.txt',\n",
       " 'os-collaboration-exercise-data/os-collaboration-exercise-data\\\\07-19-cairo.txt',\n",
       " 'os-collaboration-exercise-data/os-collaboration-exercise-data\\\\07-24-cairo.txt',\n",
       " 'os-collaboration-exercise-data/os-collaboration-exercise-data\\\\07-26-cairo.txt',\n",
       " 'os-collaboration-exercise-data/os-collaboration-exercise-data\\\\07-27-cairo.txt',\n",
       " 'os-collaboration-exercise-data/os-collaboration-exercise-data\\\\07-29-cairo.txt',\n",
       " 'os-collaboration-exercise-data/os-collaboration-exercise-data\\\\07-30-cairo.txt',\n",
       " 'os-collaboration-exercise-data/os-collaboration-exercise-data\\\\08-01-cairo.txt',\n",
       " 'os-collaboration-exercise-data/os-collaboration-exercise-data\\\\08-03-cairo.txt',\n",
       " 'os-collaboration-exercise-data/os-collaboration-exercise-data\\\\08-04-cairo.txt',\n",
       " 'os-collaboration-exercise-data/os-collaboration-exercise-data\\\\08-05-cairo.txt',\n",
       " 'os-collaboration-exercise-data/os-collaboration-exercise-data\\\\08-07-cairo.txt',\n",
       " 'os-collaboration-exercise-data/os-collaboration-exercise-data\\\\08-08-cairo.txt',\n",
       " 'os-collaboration-exercise-data/os-collaboration-exercise-data\\\\08-10-cairo.txt',\n",
       " 'os-collaboration-exercise-data/os-collaboration-exercise-data\\\\08-12-cairo.txt',\n",
       " 'os-collaboration-exercise-data/os-collaboration-exercise-data\\\\08-14-cairo.txt',\n",
       " 'os-collaboration-exercise-data/os-collaboration-exercise-data\\\\08-18-cairo.txt',\n",
       " 'os-collaboration-exercise-data/os-collaboration-exercise-data\\\\08-19-cairo.txt',\n",
       " 'os-collaboration-exercise-data/os-collaboration-exercise-data\\\\08-20-cairo.txt',\n",
       " 'os-collaboration-exercise-data/os-collaboration-exercise-data\\\\08-24-cairo.txt',\n",
       " 'os-collaboration-exercise-data/os-collaboration-exercise-data\\\\08-25-cairo.txt',\n",
       " 'os-collaboration-exercise-data/os-collaboration-exercise-data\\\\08-26-cairo.txt',\n",
       " 'os-collaboration-exercise-data/os-collaboration-exercise-data\\\\09-02-cairo.txt',\n",
       " 'os-collaboration-exercise-data/os-collaboration-exercise-data\\\\09-04-cairo.txt',\n",
       " 'os-collaboration-exercise-data/os-collaboration-exercise-data\\\\09-05-cairo.txt',\n",
       " 'os-collaboration-exercise-data/os-collaboration-exercise-data\\\\09-07-cairo.txt',\n",
       " 'os-collaboration-exercise-data/os-collaboration-exercise-data\\\\09-08-cairo.txt',\n",
       " 'os-collaboration-exercise-data/os-collaboration-exercise-data\\\\09-11-cairo.txt',\n",
       " 'os-collaboration-exercise-data/os-collaboration-exercise-data\\\\09-12-cairo.txt',\n",
       " 'os-collaboration-exercise-data/os-collaboration-exercise-data\\\\09-13-cairo.txt',\n",
       " 'os-collaboration-exercise-data/os-collaboration-exercise-data\\\\09-16-cairo.txt',\n",
       " 'os-collaboration-exercise-data/os-collaboration-exercise-data\\\\09-18-cairo.txt',\n",
       " 'os-collaboration-exercise-data/os-collaboration-exercise-data\\\\09-20-cairo.txt',\n",
       " 'os-collaboration-exercise-data/os-collaboration-exercise-data\\\\09-22-cairo.txt',\n",
       " 'os-collaboration-exercise-data/os-collaboration-exercise-data\\\\09-23-cairo.txt',\n",
       " 'os-collaboration-exercise-data/os-collaboration-exercise-data\\\\09-24-cairo.txt',\n",
       " 'os-collaboration-exercise-data/os-collaboration-exercise-data\\\\09-25-cairo.txt',\n",
       " 'os-collaboration-exercise-data/os-collaboration-exercise-data\\\\09-26-cairo.txt',\n",
       " 'os-collaboration-exercise-data/os-collaboration-exercise-data\\\\09-28-cairo.txt',\n",
       " 'os-collaboration-exercise-data/os-collaboration-exercise-data\\\\10-23-cairo.txt',\n",
       " 'os-collaboration-exercise-data/os-collaboration-exercise-data\\\\11-03-cairo.txt',\n",
       " 'os-collaboration-exercise-data/os-collaboration-exercise-data\\\\11-04-cairo.txt',\n",
       " 'os-collaboration-exercise-data/os-collaboration-exercise-data\\\\11-05-cairo.txt',\n",
       " 'os-collaboration-exercise-data/os-collaboration-exercise-data\\\\11-10-cairo.txt',\n",
       " 'os-collaboration-exercise-data/os-collaboration-exercise-data\\\\11-14-cairo.txt',\n",
       " 'os-collaboration-exercise-data/os-collaboration-exercise-data\\\\11-17-cairo.txt',\n",
       " 'os-collaboration-exercise-data/os-collaboration-exercise-data\\\\11-19-cairo.txt',\n",
       " 'os-collaboration-exercise-data/os-collaboration-exercise-data\\\\11-21-cairo.txt',\n",
       " 'os-collaboration-exercise-data/os-collaboration-exercise-data\\\\11-29-cairo.txt',\n",
       " 'os-collaboration-exercise-data/os-collaboration-exercise-data\\\\12-01-cairo.txt',\n",
       " 'os-collaboration-exercise-data/os-collaboration-exercise-data\\\\12-03-cairo.txt',\n",
       " 'os-collaboration-exercise-data/os-collaboration-exercise-data\\\\12-04-cairo.txt',\n",
       " 'os-collaboration-exercise-data/os-collaboration-exercise-data\\\\12-05-cairo.txt',\n",
       " 'os-collaboration-exercise-data/os-collaboration-exercise-data\\\\12-07-cairo.txt',\n",
       " 'os-collaboration-exercise-data/os-collaboration-exercise-data\\\\12-09-cairo.txt',\n",
       " 'os-collaboration-exercise-data/os-collaboration-exercise-data\\\\12-10-cairo.txt',\n",
       " 'os-collaboration-exercise-data/os-collaboration-exercise-data\\\\12-13-cairo.txt',\n",
       " 'os-collaboration-exercise-data/os-collaboration-exercise-data\\\\12-17-cairo.txt',\n",
       " 'os-collaboration-exercise-data/os-collaboration-exercise-data\\\\12-18-cairo.txt',\n",
       " 'os-collaboration-exercise-data/os-collaboration-exercise-data\\\\12-19-cairo.txt',\n",
       " 'os-collaboration-exercise-data/os-collaboration-exercise-data\\\\12-21-cairo.txt',\n",
       " 'os-collaboration-exercise-data/os-collaboration-exercise-data\\\\12-22-cairo.txt',\n",
       " 'os-collaboration-exercise-data/os-collaboration-exercise-data\\\\12-23-cairo.txt',\n",
       " 'os-collaboration-exercise-data/os-collaboration-exercise-data\\\\12-26-cairo.txt',\n",
       " 'os-collaboration-exercise-data/os-collaboration-exercise-data\\\\12-27-cairo.txt',\n",
       " 'os-collaboration-exercise-data/os-collaboration-exercise-data\\\\12-29-cairo.txt',\n",
       " 'os-collaboration-exercise-data/os-collaboration-exercise-data\\\\apr-02_cairo.jpg',\n",
       " 'os-collaboration-exercise-data/os-collaboration-exercise-data\\\\apr-06_cairo.png',\n",
       " 'os-collaboration-exercise-data/os-collaboration-exercise-data\\\\apr-07_cairo.png',\n",
       " 'os-collaboration-exercise-data/os-collaboration-exercise-data\\\\apr-10_cairo.png',\n",
       " 'os-collaboration-exercise-data/os-collaboration-exercise-data\\\\apr-12_cairo.pdf',\n",
       " 'os-collaboration-exercise-data/os-collaboration-exercise-data\\\\apr-12_cairo.png',\n",
       " 'os-collaboration-exercise-data/os-collaboration-exercise-data\\\\apr-13_cairo.png',\n",
       " 'os-collaboration-exercise-data/os-collaboration-exercise-data\\\\apr-14_cairo.jpg',\n",
       " 'os-collaboration-exercise-data/os-collaboration-exercise-data\\\\apr-14_cairo.png',\n",
       " 'os-collaboration-exercise-data/os-collaboration-exercise-data\\\\apr-15_cairo.jpg',\n",
       " 'os-collaboration-exercise-data/os-collaboration-exercise-data\\\\apr-17_cairo.jpg',\n",
       " 'os-collaboration-exercise-data/os-collaboration-exercise-data\\\\apr-17_cairo.pdf',\n",
       " 'os-collaboration-exercise-data/os-collaboration-exercise-data\\\\apr-17_cairo.png',\n",
       " 'os-collaboration-exercise-data/os-collaboration-exercise-data\\\\apr-20_cairo.jpg',\n",
       " 'os-collaboration-exercise-data/os-collaboration-exercise-data\\\\apr-21_cairo.pdf',\n",
       " 'os-collaboration-exercise-data/os-collaboration-exercise-data\\\\apr-22_cairo.pdf',\n",
       " 'os-collaboration-exercise-data/os-collaboration-exercise-data\\\\apr-23_cairo.jpg',\n",
       " 'os-collaboration-exercise-data/os-collaboration-exercise-data\\\\apr-24_cairo.jpg',\n",
       " 'os-collaboration-exercise-data/os-collaboration-exercise-data\\\\aug-01_cairo.jpg',\n",
       " 'os-collaboration-exercise-data/os-collaboration-exercise-data\\\\aug-01_cairo.png',\n",
       " 'os-collaboration-exercise-data/os-collaboration-exercise-data\\\\aug-03_cairo.png',\n",
       " 'os-collaboration-exercise-data/os-collaboration-exercise-data\\\\aug-04_cairo.jpg',\n",
       " 'os-collaboration-exercise-data/os-collaboration-exercise-data\\\\aug-04_cairo.pdf',\n",
       " 'os-collaboration-exercise-data/os-collaboration-exercise-data\\\\aug-05_cairo.pdf',\n",
       " 'os-collaboration-exercise-data/os-collaboration-exercise-data\\\\aug-07_cairo.png',\n",
       " 'os-collaboration-exercise-data/os-collaboration-exercise-data\\\\aug-08_cairo.jpg',\n",
       " 'os-collaboration-exercise-data/os-collaboration-exercise-data\\\\aug-10_cairo.png',\n",
       " 'os-collaboration-exercise-data/os-collaboration-exercise-data\\\\aug-12_cairo.jpg',\n",
       " 'os-collaboration-exercise-data/os-collaboration-exercise-data\\\\aug-14_cairo.jpg',\n",
       " 'os-collaboration-exercise-data/os-collaboration-exercise-data\\\\aug-14_cairo.png',\n",
       " 'os-collaboration-exercise-data/os-collaboration-exercise-data\\\\aug-18_cairo.jpg',\n",
       " 'os-collaboration-exercise-data/os-collaboration-exercise-data\\\\aug-19_cairo.jpg',\n",
       " 'os-collaboration-exercise-data/os-collaboration-exercise-data\\\\aug-20_cairo.png',\n",
       " 'os-collaboration-exercise-data/os-collaboration-exercise-data\\\\aug-24_cairo.pdf',\n",
       " 'os-collaboration-exercise-data/os-collaboration-exercise-data\\\\aug-25_cairo.png',\n",
       " 'os-collaboration-exercise-data/os-collaboration-exercise-data\\\\aug-26_cairo.png',\n",
       " 'os-collaboration-exercise-data/os-collaboration-exercise-data\\\\dec-01_cairo.jpg',\n",
       " 'os-collaboration-exercise-data/os-collaboration-exercise-data\\\\dec-03_cairo.jpg',\n",
       " 'os-collaboration-exercise-data/os-collaboration-exercise-data\\\\dec-03_cairo.png',\n",
       " 'os-collaboration-exercise-data/os-collaboration-exercise-data\\\\dec-04_cairo.jpg',\n",
       " 'os-collaboration-exercise-data/os-collaboration-exercise-data\\\\dec-04_cairo.pdf',\n",
       " 'os-collaboration-exercise-data/os-collaboration-exercise-data\\\\dec-04_cairo.png',\n",
       " 'os-collaboration-exercise-data/os-collaboration-exercise-data\\\\dec-05_cairo.png',\n",
       " 'os-collaboration-exercise-data/os-collaboration-exercise-data\\\\dec-07_cairo.jpg',\n",
       " 'os-collaboration-exercise-data/os-collaboration-exercise-data\\\\dec-09_cairo.png',\n",
       " 'os-collaboration-exercise-data/os-collaboration-exercise-data\\\\dec-10_cairo.jpg',\n",
       " 'os-collaboration-exercise-data/os-collaboration-exercise-data\\\\dec-10_cairo.pdf',\n",
       " 'os-collaboration-exercise-data/os-collaboration-exercise-data\\\\dec-13_cairo.pdf',\n",
       " 'os-collaboration-exercise-data/os-collaboration-exercise-data\\\\dec-17_cairo.png',\n",
       " 'os-collaboration-exercise-data/os-collaboration-exercise-data\\\\dec-18_cairo.jpg',\n",
       " 'os-collaboration-exercise-data/os-collaboration-exercise-data\\\\dec-19_cairo.pdf',\n",
       " 'os-collaboration-exercise-data/os-collaboration-exercise-data\\\\dec-21_cairo.png',\n",
       " 'os-collaboration-exercise-data/os-collaboration-exercise-data\\\\dec-22_cairo.jpg',\n",
       " 'os-collaboration-exercise-data/os-collaboration-exercise-data\\\\dec-23_cairo.pdf',\n",
       " 'os-collaboration-exercise-data/os-collaboration-exercise-data\\\\dec-26_cairo.pdf',\n",
       " 'os-collaboration-exercise-data/os-collaboration-exercise-data\\\\dec-27_cairo.png',\n",
       " 'os-collaboration-exercise-data/os-collaboration-exercise-data\\\\dec-29_cairo.jpg',\n",
       " 'os-collaboration-exercise-data/os-collaboration-exercise-data\\\\dec-29_cairo.png',\n",
       " 'os-collaboration-exercise-data/os-collaboration-exercise-data\\\\feb-10_cairo.jpg',\n",
       " 'os-collaboration-exercise-data/os-collaboration-exercise-data\\\\feb-10_cairo.pdf',\n",
       " 'os-collaboration-exercise-data/os-collaboration-exercise-data\\\\feb-17_cairo.jpg',\n",
       " 'os-collaboration-exercise-data/os-collaboration-exercise-data\\\\feb-20_cairo.png',\n",
       " 'os-collaboration-exercise-data/os-collaboration-exercise-data\\\\feb-22_cairo.pdf',\n",
       " 'os-collaboration-exercise-data/os-collaboration-exercise-data\\\\feb-22_cairo.png',\n",
       " 'os-collaboration-exercise-data/os-collaboration-exercise-data\\\\feb-25_cairo.jpg',\n",
       " 'os-collaboration-exercise-data/os-collaboration-exercise-data\\\\feb-25_cairo.pdf',\n",
       " 'os-collaboration-exercise-data/os-collaboration-exercise-data\\\\feb-26_cairo.png',\n",
       " 'os-collaboration-exercise-data/os-collaboration-exercise-data\\\\jan-02_cairo.pdf',\n",
       " 'os-collaboration-exercise-data/os-collaboration-exercise-data\\\\jan-03_cairo.pdf',\n",
       " 'os-collaboration-exercise-data/os-collaboration-exercise-data\\\\jan-04_cairo.jpg',\n",
       " 'os-collaboration-exercise-data/os-collaboration-exercise-data\\\\jan-05_cairo.jpg',\n",
       " 'os-collaboration-exercise-data/os-collaboration-exercise-data\\\\jan-07_cairo.jpg',\n",
       " 'os-collaboration-exercise-data/os-collaboration-exercise-data\\\\jan-08_cairo.png',\n",
       " 'os-collaboration-exercise-data/os-collaboration-exercise-data\\\\jan-09_cairo.jpg',\n",
       " 'os-collaboration-exercise-data/os-collaboration-exercise-data\\\\jan-11_cairo.png',\n",
       " 'os-collaboration-exercise-data/os-collaboration-exercise-data\\\\jan-12_cairo.pdf',\n",
       " 'os-collaboration-exercise-data/os-collaboration-exercise-data\\\\jan-13_cairo.png',\n",
       " 'os-collaboration-exercise-data/os-collaboration-exercise-data\\\\jan-15_cairo.jpg',\n",
       " 'os-collaboration-exercise-data/os-collaboration-exercise-data\\\\jan-15_cairo.png',\n",
       " 'os-collaboration-exercise-data/os-collaboration-exercise-data\\\\jan-16_cairo.png',\n",
       " 'os-collaboration-exercise-data/os-collaboration-exercise-data\\\\jan-19_cairo.pdf',\n",
       " 'os-collaboration-exercise-data/os-collaboration-exercise-data\\\\jan-20_cairo.pdf',\n",
       " 'os-collaboration-exercise-data/os-collaboration-exercise-data\\\\jan-21_cairo.jpg',\n",
       " 'os-collaboration-exercise-data/os-collaboration-exercise-data\\\\jan-23_cairo.png',\n",
       " 'os-collaboration-exercise-data/os-collaboration-exercise-data\\\\jan-27_cairo.jpg',\n",
       " 'os-collaboration-exercise-data/os-collaboration-exercise-data\\\\jan-30_cairo.pdf',\n",
       " 'os-collaboration-exercise-data/os-collaboration-exercise-data\\\\jul-04_cairo.jpg',\n",
       " 'os-collaboration-exercise-data/os-collaboration-exercise-data\\\\jul-08_cairo.png',\n",
       " 'os-collaboration-exercise-data/os-collaboration-exercise-data\\\\jul-10_cairo.png',\n",
       " 'os-collaboration-exercise-data/os-collaboration-exercise-data\\\\jul-13_cairo.png',\n",
       " 'os-collaboration-exercise-data/os-collaboration-exercise-data\\\\jul-14_cairo.jpg',\n",
       " 'os-collaboration-exercise-data/os-collaboration-exercise-data\\\\jul-15_cairo.pdf',\n",
       " 'os-collaboration-exercise-data/os-collaboration-exercise-data\\\\jul-16_cairo.png',\n",
       " 'os-collaboration-exercise-data/os-collaboration-exercise-data\\\\jul-17_cairo.pdf',\n",
       " 'os-collaboration-exercise-data/os-collaboration-exercise-data\\\\jul-19_cairo.jpg',\n",
       " 'os-collaboration-exercise-data/os-collaboration-exercise-data\\\\jul-24_cairo.pdf',\n",
       " 'os-collaboration-exercise-data/os-collaboration-exercise-data\\\\jul-26_cairo.png',\n",
       " 'os-collaboration-exercise-data/os-collaboration-exercise-data\\\\jul-27_cairo.png',\n",
       " 'os-collaboration-exercise-data/os-collaboration-exercise-data\\\\jul-29_cairo.jpg',\n",
       " 'os-collaboration-exercise-data/os-collaboration-exercise-data\\\\jul-30_cairo.png',\n",
       " 'os-collaboration-exercise-data/os-collaboration-exercise-data\\\\jun-28_cairo.pdf',\n",
       " 'os-collaboration-exercise-data/os-collaboration-exercise-data\\\\mar-05_cairo.pdf',\n",
       " 'os-collaboration-exercise-data/os-collaboration-exercise-data\\\\mar-05_cairo.png',\n",
       " 'os-collaboration-exercise-data/os-collaboration-exercise-data\\\\mar-06_cairo.pdf',\n",
       " 'os-collaboration-exercise-data/os-collaboration-exercise-data\\\\mar-12_cairo.jpg',\n",
       " 'os-collaboration-exercise-data/os-collaboration-exercise-data\\\\mar-14_cairo.pdf',\n",
       " 'os-collaboration-exercise-data/os-collaboration-exercise-data\\\\mar-19_cairo.jpg',\n",
       " 'os-collaboration-exercise-data/os-collaboration-exercise-data\\\\mar-24_cairo.pdf',\n",
       " 'os-collaboration-exercise-data/os-collaboration-exercise-data\\\\may-01_cairo.png',\n",
       " 'os-collaboration-exercise-data/os-collaboration-exercise-data\\\\may-02_cairo.png',\n",
       " 'os-collaboration-exercise-data/os-collaboration-exercise-data\\\\may-12_cairo.png',\n",
       " 'os-collaboration-exercise-data/os-collaboration-exercise-data\\\\may-17_cairo.png',\n",
       " 'os-collaboration-exercise-data/os-collaboration-exercise-data\\\\may-25_cairo.png',\n",
       " 'os-collaboration-exercise-data/os-collaboration-exercise-data\\\\may-27_cairo.pdf',\n",
       " 'os-collaboration-exercise-data/os-collaboration-exercise-data\\\\may-29_cairo.pdf',\n",
       " 'os-collaboration-exercise-data/os-collaboration-exercise-data\\\\may-30_cairo.jpg',\n",
       " 'os-collaboration-exercise-data/os-collaboration-exercise-data\\\\may-30_cairo.png',\n",
       " 'os-collaboration-exercise-data/os-collaboration-exercise-data\\\\nov-03_cairo.png',\n",
       " 'os-collaboration-exercise-data/os-collaboration-exercise-data\\\\nov-04_cairo.pdf',\n",
       " 'os-collaboration-exercise-data/os-collaboration-exercise-data\\\\nov-05_cairo.jpg',\n",
       " 'os-collaboration-exercise-data/os-collaboration-exercise-data\\\\nov-05_cairo.png',\n",
       " 'os-collaboration-exercise-data/os-collaboration-exercise-data\\\\nov-10_cairo.pdf',\n",
       " 'os-collaboration-exercise-data/os-collaboration-exercise-data\\\\nov-14_cairo.pdf',\n",
       " 'os-collaboration-exercise-data/os-collaboration-exercise-data\\\\nov-17_cairo.pdf',\n",
       " 'os-collaboration-exercise-data/os-collaboration-exercise-data\\\\nov-19_cairo.jpg',\n",
       " 'os-collaboration-exercise-data/os-collaboration-exercise-data\\\\nov-21_cairo.pdf',\n",
       " 'os-collaboration-exercise-data/os-collaboration-exercise-data\\\\nov-29_cairo.pdf',\n",
       " 'os-collaboration-exercise-data/os-collaboration-exercise-data\\\\oct-23_cairo.jpg',\n",
       " 'os-collaboration-exercise-data/os-collaboration-exercise-data\\\\sep-02_cairo.png',\n",
       " 'os-collaboration-exercise-data/os-collaboration-exercise-data\\\\sep-04_cairo.pdf',\n",
       " 'os-collaboration-exercise-data/os-collaboration-exercise-data\\\\sep-05_cairo.pdf',\n",
       " 'os-collaboration-exercise-data/os-collaboration-exercise-data\\\\sep-07_cairo.jpg',\n",
       " 'os-collaboration-exercise-data/os-collaboration-exercise-data\\\\sep-08_cairo.pdf',\n",
       " 'os-collaboration-exercise-data/os-collaboration-exercise-data\\\\sep-11_cairo.png',\n",
       " 'os-collaboration-exercise-data/os-collaboration-exercise-data\\\\sep-12_cairo.png',\n",
       " 'os-collaboration-exercise-data/os-collaboration-exercise-data\\\\sep-13_cairo.jpg',\n",
       " 'os-collaboration-exercise-data/os-collaboration-exercise-data\\\\sep-13_cairo.png',\n",
       " 'os-collaboration-exercise-data/os-collaboration-exercise-data\\\\sep-16_cairo.png',\n",
       " 'os-collaboration-exercise-data/os-collaboration-exercise-data\\\\sep-18_cairo.pdf',\n",
       " 'os-collaboration-exercise-data/os-collaboration-exercise-data\\\\sep-20_cairo.jpg',\n",
       " 'os-collaboration-exercise-data/os-collaboration-exercise-data\\\\sep-22_cairo.pdf',\n",
       " 'os-collaboration-exercise-data/os-collaboration-exercise-data\\\\sep-23_cairo.pdf',\n",
       " 'os-collaboration-exercise-data/os-collaboration-exercise-data\\\\sep-24_cairo.pdf',\n",
       " 'os-collaboration-exercise-data/os-collaboration-exercise-data\\\\sep-25_cairo.jpg',\n",
       " 'os-collaboration-exercise-data/os-collaboration-exercise-data\\\\sep-25_cairo.pdf',\n",
       " 'os-collaboration-exercise-data/os-collaboration-exercise-data\\\\sep-26_cairo.pdf',\n",
       " 'os-collaboration-exercise-data/os-collaboration-exercise-data\\\\sep-28_cairo.jpg',\n",
       " 'os-collaboration-exercise-data/os-collaboration-exercise-data\\\\sep-28_cairo.pdf',\n",
       " 'os-collaboration-exercise-data/os-collaboration-exercise-data\\\\sep-28_cairo.png']"
      ]
     },
     "execution_count": 23,
     "metadata": {},
     "output_type": "execute_result"
    }
   ],
   "source": [
    "glob.glob('os-collaboration-exercise-data/os-collaboration-exercise-data/*[Cc]airo*', recursive=True)"
   ]
  },
  {
   "cell_type": "code",
   "execution_count": 32,
   "id": "65a91b33",
   "metadata": {},
   "outputs": [],
   "source": [
    "for file in glob.glob('os-collaboration-exercise-data/os-collaboration-exercise-data/*[Cc]airo*', recursive=True):      # *[Cc]airo* looks for all files that has Cairo or cairo in the filename\n",
    "    filename = file.split('\\\\')[-1]\n",
    "    desti = 'citylist/Cairo'\n",
    "    joiningpaths6 = os.path.join(desti,filename)\n",
    "    shutil.copy(file,desti)             # place the files into new destination"
   ]
  },
  {
   "cell_type": "markdown",
   "id": "eeb195b7",
   "metadata": {},
   "source": [
    "# Task 7 Move all files"
   ]
  },
  {
   "cell_type": "code",
   "execution_count": 13,
   "id": "f8d01a80",
   "metadata": {},
   "outputs": [],
   "source": [
    "citylist = ['Dhaka', 'Jakarta', 'Karachi', 'Manila',\n",
    " 'Melbourne', 'Osaka', 'Shanghai', 'Singapore', 'Tokyo']\n",
    "\n",
    "for x in citylist:\n",
    "    ori_path = glob.glob(f'os-collaboration-exercise-data/os-collaboration-exercise-data/*{x}*', recursive=True)    # f is there bcause of {x}\n",
    "    for files in ori_path:\n",
    "        new_path = os.path.join('citylist',x)\n",
    "        shutil.move(files,new_path)"
   ]
  }
 ],
 "metadata": {
  "kernelspec": {
   "display_name": "base",
   "language": "python",
   "name": "python3"
  },
  "language_info": {
   "codemirror_mode": {
    "name": "ipython",
    "version": 3
   },
   "file_extension": ".py",
   "mimetype": "text/x-python",
   "name": "python",
   "nbconvert_exporter": "python",
   "pygments_lexer": "ipython3",
   "version": "3.13.5"
  },
  "toc": {
   "base_numbering": 1,
   "nav_menu": {},
   "number_sections": true,
   "sideBar": true,
   "skip_h1_title": false,
   "title_cell": "Table of Contents",
   "title_sidebar": "Contents",
   "toc_cell": false,
   "toc_position": {},
   "toc_section_display": true,
   "toc_window_display": false
  }
 },
 "nbformat": 4,
 "nbformat_minor": 5
}
