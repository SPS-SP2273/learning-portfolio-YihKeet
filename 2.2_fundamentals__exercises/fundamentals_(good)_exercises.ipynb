{
 "cells": [
  {
   "attachments": {},
   "cell_type": "markdown",
   "id": "123456",
   "metadata": {},
   "source": [
    "<div style=\"text-align:left;font-size:2em\"><span style=\"font-weight:bolder;font-size:1.25em\">SP2273 | Learning Portfolio</span><br><br><span style=\"font-weight:bold;color:darkred\">Fundamentals (Good) Exercises</span></div>"
   ]
  },
  {
   "cell_type": "markdown",
   "id": "50686443",
   "metadata": {},
   "source": [
    "# F-strings to the rescue"
   ]
  },
  {
   "cell_type": "markdown",
   "id": "f1528fd6",
   "metadata": {},
   "source": [
    "### Example 1"
   ]
  },
  {
   "cell_type": "code",
   "execution_count": 1,
   "id": "04d62cc2",
   "metadata": {},
   "outputs": [
    {
     "name": "stdout",
     "output_type": "stream",
     "text": [
      "You entered 5\n"
     ]
    }
   ],
   "source": [
    "user_input = input('Please provide me with a number?')\n",
    "print('You entered', user_input)"
   ]
  },
  {
   "cell_type": "markdown",
   "id": "1b7df4fd",
   "metadata": {},
   "source": [
    "### Task 1"
   ]
  },
  {
   "cell_type": "code",
   "execution_count": 19,
   "id": "bde4b589",
   "metadata": {},
   "outputs": [
    {
     "name": "stdout",
     "output_type": "stream",
     "text": [
      "How you doin, Norbit!\n"
     ]
    }
   ],
   "source": [
    "user_input = input('Please provide me with a name. Thank you.')\n",
    "print(f'How you doin, {user_input}!')"
   ]
  },
  {
   "cell_type": "markdown",
   "id": "536ec50c",
   "metadata": {},
   "source": [
    "### Task 2"
   ]
  },
  {
   "cell_type": "code",
   "execution_count": 14,
   "id": "51868b69",
   "metadata": {},
   "outputs": [
    {
     "name": "stdout",
     "output_type": "stream",
     "text": [
      "My name is yk and I am 5 years old.\n"
     ]
    }
   ],
   "source": [
    "name_input= input('Please provide me with your name.')\n",
    "age_input= input('Please provide me with your age.')\n",
    "print('My name is', name_input, 'and I am', age_input, 'years old.')"
   ]
  },
  {
   "cell_type": "markdown",
   "id": "34cb419a",
   "metadata": {},
   "source": [
    "### Task 3"
   ]
  },
  {
   "cell_type": "code",
   "execution_count": 25,
   "id": "81c37463",
   "metadata": {},
   "outputs": [
    {
     "name": "stdout",
     "output_type": "stream",
     "text": [
      "The value of pi to 2 decimal places is 3.14\n",
      "The value of pi to 3 decimal places is 3.142\n",
      "The value of pi to 4 decimal places is 3.1416\n"
     ]
    }
   ],
   "source": [
    "pi = 3.141592653589793\n",
    "print(f'The value of pi to 2 decimal places is {pi:.2f}')\n",
    "print(f'The value of pi to 3 decimal places is {pi:.3f}')\n",
    "print(f'The value of pi to 4 decimal places is {pi:.4f}')"
   ]
  },
  {
   "cell_type": "markdown",
   "id": "ae83997c",
   "metadata": {},
   "source": [
    "### Task 4"
   ]
  },
  {
   "cell_type": "code",
   "execution_count": 34,
   "id": "80dd4fc0",
   "metadata": {},
   "outputs": [
    {
     "name": "stdout",
     "output_type": "stream",
     "text": [
      "Apple      $ 0.99 \n",
      "Banana     $ 0.59 \n",
      "Orange     $ 1.29 \n"
     ]
    }
   ],
   "source": [
    "a = 'Apple'\n",
    "price_a = 0.99\n",
    "b = 'Banana'\n",
    "price_b = 0.59\n",
    "o = 'Orange'\n",
    "price_o = 1.29\n",
    "\n",
    "print(f'{a:<10} $ {price_a:^5}\\n{b:<10} $ {price_b:^5}\\n{o:<10} $ {price_o:^5}') "
   ]
  },
  {
   "cell_type": "markdown",
   "id": "c68c4fef",
   "metadata": {},
   "source": [
    "# What is your grade?"
   ]
  },
  {
   "cell_type": "code",
   "execution_count": 42,
   "id": "f6d02fe7",
   "metadata": {},
   "outputs": [
    {
     "name": "stdout",
     "output_type": "stream",
     "text": [
      "The student's score is 100 and the student's grade is A.\n"
     ]
    }
   ],
   "source": [
    "score_input = int(input('Please input your numerical grade (0-100)'))\n",
    "text1 = 'The student\\'s score is'\n",
    "text2 = 'the student\\'s grade is'\n",
    "\n",
    "if 70 <=score_input<= 100:\n",
    "    print(f'{text1} {score_input} and {text2} A.')\n",
    "elif 50 <= score_input <= 69:\n",
    "    print(f'{text1} {score_input} and {text2} B.')\n",
    "elif 35 <= score_input <= 49:\n",
    "    print(f'{text1} {score_input} and {text2} C.')\n",
    "elif 0 <= score_input <= 34:\n",
    "    print(f'{text1} {score_input} and {text2} Fail.')\n",
    "elif score_input<0 or score_input> 100:\n",
    "    print('Please input your numerical grade within the range of 0 - 100.')"
   ]
  },
  {
   "cell_type": "code",
   "execution_count": 46,
   "id": "d89240fe",
   "metadata": {},
   "outputs": [
    {
     "name": "stdout",
     "output_type": "stream",
     "text": [
      "The student's score is 75 and the student's grade is A.\n"
     ]
    }
   ],
   "source": [
    "score_input = int(input('Please input your numerical grade (0-100)'))\n",
    "\n",
    "if 70 <=score_input<= 100:\n",
    "    x = 'A'    \n",
    "elif 50 <= score_input <= 69:\n",
    "    x = 'B'  \n",
    "elif 35 <= score_input <= 49:\n",
    "    x = 'C'\n",
    "elif 0 <= score_input <= 34:\n",
    "    x = 'Fail'  \n",
    "\n",
    "if score_input<0 or score_input>100:\n",
    "    print('Please input your numerical grade within the range of 0 - 100.')\n",
    "else: \n",
    "    print(f'The student\\'s score is {score_input} and the student\\'s grade is {x}.')"
   ]
  },
  {
   "cell_type": "markdown",
   "id": "8ca10efe",
   "metadata": {},
   "source": [
    "# Debugging Code"
   ]
  },
  {
   "cell_type": "code",
   "execution_count": 68,
   "id": "4903f57d",
   "metadata": {},
   "outputs": [
    {
     "name": "stdout",
     "output_type": "stream",
     "text": [
      "120\n",
      "Invalid input\n"
     ]
    }
   ],
   "source": [
    "def factorial(n):\n",
    "    if n < 0:                                   # changed > to < to show that n cannot be negative and smaller than 0\n",
    "        return \"Invalid input\"\n",
    "    elif n == 0:                                # changed != to == to show that the 'elif' will only proceed if n == 0 is true to return '1'\n",
    "        return 1\n",
    "    else:\n",
    "        result = 1\n",
    "        for number in range(1, n+1):\n",
    "            result *= number                    # changed += to *= to show that factorial is a repeated multiplication, not an addition, that relies on a looped/updated variable\n",
    "        return result\n",
    "\n",
    "\n",
    "print(factorial(5))   # Testing, expected output: 120\n",
    "print(factorial(-1))  # Testing, expected output: Invalid input"
   ]
  }
 ],
 "metadata": {
  "kernelspec": {
   "display_name": "base",
   "language": "python",
   "name": "python3"
  },
  "language_info": {
   "codemirror_mode": {
    "name": "ipython",
    "version": 3
   },
   "file_extension": ".py",
   "mimetype": "text/x-python",
   "name": "python",
   "nbconvert_exporter": "python",
   "pygments_lexer": "ipython3",
   "version": "3.13.5"
  },
  "toc": {
   "base_numbering": 1,
   "nav_menu": {},
   "number_sections": true,
   "sideBar": true,
   "skip_h1_title": false,
   "title_cell": "Table of Contents",
   "title_sidebar": "Contents",
   "toc_cell": false,
   "toc_position": {},
   "toc_section_display": true,
   "toc_window_display": false
  }
 },
 "nbformat": 4,
 "nbformat_minor": 5
}
