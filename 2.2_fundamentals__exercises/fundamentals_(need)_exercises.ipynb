{
 "cells": [
  {
   "attachments": {},
   "cell_type": "markdown",
   "id": "123456",
   "metadata": {},
   "source": [
    "<div style=\"text-align:left;font-size:2em\"><span style=\"font-weight:bolder;font-size:1.25em\">SP2273 | Learning Portfolio</span><br><br><span style=\"font-weight:bold;color:darkred\">Fundamentals (Need) Exercises</span></div>"
   ]
  },
  {
   "cell_type": "markdown",
   "id": "d6f201a3",
   "metadata": {},
   "source": [
    "# Total recall?"
   ]
  },
  {
   "cell_type": "markdown",
   "id": "09c306c0",
   "metadata": {},
   "source": [
    "1. **Purely from memory**, list as many of the basic Python features I mentioned in my notes as you remember.\n",
    "- usage of brackets for listing, dictionary, functions and math\n",
    "- usage of dot for ownership\n",
    "- importing and using imported things for math equations that is not present\n",
    "- the use of 'if ... else...' and asking a basic checking question\n"
   ]
  },
  {
   "cell_type": "markdown",
   "id": "ba948efd",
   "metadata": {},
   "source": [
    "2. Now, visit the notes and complete the list with the ones you missed.\n",
    "- usage of hastag for comments\n",
    "- indentations lead to different things\n",
    "- usage of ' ' to indicate words, if not it will be a variable"
   ]
  },
  {
   "cell_type": "markdown",
   "id": "900ad268",
   "metadata": {},
   "source": [
    "# Debug me"
   ]
  },
  {
   "cell_type": "code",
   "execution_count": 52,
   "id": "fe4f7bc0",
   "metadata": {},
   "outputs": [
    {
     "name": "stdout",
     "output_type": "stream",
     "text": [
      "3 4 5.0\n"
     ]
    }
   ],
   "source": [
    "import math as m\n",
    "x, y = 3, 4\n",
    "z = m.sqrt(x**2 + y**2)\n",
    "print(x,y,z)"
   ]
  },
  {
   "cell_type": "markdown",
   "id": "9352da82",
   "metadata": {},
   "source": [
    "# In your own words"
   ]
  },
  {
   "cell_type": "markdown",
   "id": "24ce00be",
   "metadata": {},
   "source": [
    "| **#** | **Term** | **Description** |\n",
    "| :---:  | :--------: | :-------------:  |\n",
    "| 1  | Function   | Functions are words with coded instructions attached to it and are accompanied with a pair of round brackets for the action to be carried out on.\n",
    "| 2  | Arguments  | It is a value or variable that provides an input to a function to produce an output.\n",
    "| 3  | Comments   | Using Hashtags, writer is able to give comments within the code, but is not writen and processed by Python.\n",
    "| 4  | Indentations  | Using the 'tab' button on the keyboard, the writer is able to indicate a separation or a forrm of catergorising when using functions like 'if __ else __'.\n",
    "| 5  | Packages   | They are folders of instructions and can be imported. \n",
    "| 6  | .   | This dot suggests ownership of the left term on the right term.\n",
    "| 7  | :   | It can be a form of separation between key and variable in a dictionary or when formating words. \n",
    "| 8  | []  | Square brackets are used for listing of data and uses the format of syntax when trying to extract information from it.\n",
    "| 9  | [ [ ] , [ ] ]   | It can help separate variables and values when using a print function.\n",
    "| 10 | {}  | Wavy brackets are used to create a dictionary that stores more complex information and uses a key to identify a value or variable or term."
   ]
  },
  {
   "cell_type": "markdown",
   "id": "3142336b",
   "metadata": {},
   "source": [
    "# More than one way to divide"
   ]
  },
  {
   "cell_type": "markdown",
   "id": "6a541797",
   "metadata": {},
   "source": [
    "## 1. 5/2"
   ]
  },
  {
   "cell_type": "code",
   "execution_count": 53,
   "id": "5ffe3570",
   "metadata": {},
   "outputs": [
    {
     "data": {
      "text/plain": [
       "2.5"
      ]
     },
     "execution_count": 53,
     "metadata": {},
     "output_type": "execute_result"
    }
   ],
   "source": [
    "5/2 # Through observation, it is a simple division between the numerator and the denominator, to give an answer."
   ]
  },
  {
   "cell_type": "markdown",
   "id": "d41f4ad6",
   "metadata": {},
   "source": [
    "## 2. 5//2"
   ]
  },
  {
   "cell_type": "code",
   "execution_count": 1,
   "id": "23d5668a",
   "metadata": {},
   "outputs": [
    {
     "data": {
      "text/plain": [
       "(2, 3, 3, 4, 5, 2, 4)"
      ]
     },
     "execution_count": 1,
     "metadata": {},
     "output_type": "execute_result"
    }
   ],
   "source": [
    "5//2, 6//2, 7//2, 8//2, 11//2, 11//5, 30//7 # Through trial and error, it suggests that // still means that the division occurs normally, but the printed answer would be a whole integer/quotient that is rounded down."
   ]
  },
  {
   "cell_type": "markdown",
   "id": "b262d07c",
   "metadata": {},
   "source": [
    "## 3. 5%2"
   ]
  },
  {
   "cell_type": "code",
   "execution_count": 51,
   "id": "809834c5",
   "metadata": {},
   "outputs": [
    {
     "data": {
      "text/plain": [
       "(1, 1, 2, 4, 5, 2)"
      ]
     },
     "execution_count": 51,
     "metadata": {},
     "output_type": "execute_result"
    }
   ],
   "source": [
    "5%2, 3%2, 5%3, 11%7, 12%7, 20%3 # Through trial and error, it suggest that % means what is the remainder after dividing the number on the left with the right."
   ]
  },
  {
   "cell_type": "code",
   "execution_count": 47,
   "id": "33cf4eac",
   "metadata": {},
   "outputs": [
    {
     "data": {
      "text/plain": [
       "(1, 0, 1, 0, 1, 0, 1, 0)"
      ]
     },
     "execution_count": 47,
     "metadata": {},
     "output_type": "execute_result"
    }
   ],
   "source": [
    "1%2, 2%2, 3%2, 4%2, 5%2, 6%2, 7%2, 8%2"
   ]
  }
 ],
 "metadata": {
  "kernelspec": {
   "display_name": "base",
   "language": "python",
   "name": "python3"
  },
  "language_info": {
   "codemirror_mode": {
    "name": "ipython",
    "version": 3
   },
   "file_extension": ".py",
   "mimetype": "text/x-python",
   "name": "python",
   "nbconvert_exporter": "python",
   "pygments_lexer": "ipython3",
   "version": "3.13.5"
  },
  "toc": {
   "base_numbering": 1,
   "nav_menu": {},
   "number_sections": true,
   "sideBar": true,
   "skip_h1_title": false,
   "title_cell": "Table of Contents",
   "title_sidebar": "Contents",
   "toc_cell": false,
   "toc_position": {},
   "toc_section_display": true,
   "toc_window_display": false
  }
 },
 "nbformat": 4,
 "nbformat_minor": 5
}
